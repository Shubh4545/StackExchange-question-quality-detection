{
  "nbformat": 4,
  "nbformat_minor": 0,
  "metadata": {
    "colab": {
      "provenance": [],
      "mount_file_id": "1lbYl-id7PW_GQ_khSOw2k80PyeBOSxX6",
      "authorship_tag": "ABX9TyPzQYdAzchyxtsuIeIqfSoM",
      "include_colab_link": true
    },
    "kernelspec": {
      "name": "python3",
      "display_name": "Python 3"
    },
    "language_info": {
      "name": "python"
    }
  },
  "cells": [
    {
      "cell_type": "markdown",
      "metadata": {
        "id": "view-in-github",
        "colab_type": "text"
      },
      "source": [
        "<a href=\"https://colab.research.google.com/github/Shubh4545/StackExchange-question-quality-detection/blob/main/StackExchange_question_quality_detection2.ipynb\" target=\"_parent\"><img src=\"https://colab.research.google.com/assets/colab-badge.svg\" alt=\"Open In Colab\"/></a>"
      ]
    },
    {
      "cell_type": "markdown",
      "source": [
        "#**0.Import Libraries**\n"
      ],
      "metadata": {
        "id": "BFtIvfQR02Eu"
      }
    },
    {
      "cell_type": "code",
      "source": [
        "import xml.etree.ElementTree as ET\n",
        "import pandas as pd\n",
        "import matplotlib.pyplot as plt\n",
        "import numpy as np\n",
        "import seaborn as sns\n",
        "import nltk\n",
        "nltk.download('punkt')\n",
        "from imblearn.combine import SMOTETomek\n",
        "from sklearn.model_selection import train_test_split\n",
        "from sklearn.metrics import precision_score, recall_score, f1_score\n",
        "from sklearn.naive_bayes import MultinomialNB\n",
        "from sklearn.preprocessing import StandardScaler \n",
        "import xgboost as xgb\n",
        "from sklearn.metrics import accuracy_score\n",
        "from sklearn.metrics import roc_auc_score,confusion_matrix\n",
        "\n",
        "import warnings\n",
        "warnings.filterwarnings(\"ignore\", category=DeprecationWarning)"
      ],
      "metadata": {
        "colab": {
          "base_uri": "https://localhost:8080/"
        },
        "id": "JrwXMEDK00yU",
        "outputId": "d563851c-8fc0-466e-8e75-f609a947d420"
      },
      "execution_count": 113,
      "outputs": [
        {
          "output_type": "stream",
          "name": "stderr",
          "text": [
            "[nltk_data] Downloading package punkt to /root/nltk_data...\n",
            "[nltk_data]   Package punkt is already up-to-date!\n"
          ]
        }
      ]
    },
    {
      "cell_type": "markdown",
      "source": [
        "#**1.Dataset Creation**\n",
        "\n"
      ],
      "metadata": {
        "id": "Qr7OpPYpv0m7"
      }
    },
    {
      "cell_type": "code",
      "source": [
        "from google.colab import drive\n",
        "drive.mount('/content/drive')"
      ],
      "metadata": {
        "colab": {
          "base_uri": "https://localhost:8080/"
        },
        "id": "u2A7_PwBxMSh",
        "outputId": "b847ac79-eb34-461e-9af0-73161cf07884"
      },
      "execution_count": 71,
      "outputs": [
        {
          "output_type": "stream",
          "name": "stdout",
          "text": [
            "Drive already mounted at /content/drive; to attempt to forcibly remount, call drive.mount(\"/content/drive\", force_remount=True).\n"
          ]
        }
      ]
    },
    {
      "cell_type": "markdown",
      "source": [
        "**1.Here we need to extract [data](https://drive.google.com/drive/folders/15xd3v1mSaeGILRnpUUa2V-r2AbGp26kH) from xml file to csv file in correct format/structure. we used ElementTree to extract data from xml file. and we store extracted data to dataset.csv**"
      ],
      "metadata": {
        "id": "uNki_Rw0yDjd"
      }
    },
    {
      "cell_type": "code",
      "execution_count": 72,
      "metadata": {
        "colab": {
          "base_uri": "https://localhost:8080/"
        },
        "id": "6guTdkwkvumR",
        "outputId": "07678f8e-c624-4219-dba6-8ac3e33f2b9f"
      },
      "outputs": [
        {
          "output_type": "stream",
          "name": "stdout",
          "text": [
            "dataset.csv created \n"
          ]
        }
      ],
      "source": [
        "\n",
        "# Parse the XML file\n",
        "tree = ET.parse('/content/drive/MyDrive/COLAB/Posts.xml')\n",
        "root = tree.getroot()\n",
        "\n",
        "# Define the columns of the dataset\n",
        "columns = ['Id', 'PostTypeId', 'AcceptedAnswerId','Score', 'ViewCount','Tags','Title','Body', 'AnswerCount', 'CommentCount', 'FavoriteCount']\n",
        "\n",
        "# Create an empty list to store the data\n",
        "data = []\n",
        "\n",
        "# Iterate through each row in the XML file\n",
        "for row in root.findall('.//row'):\n",
        "\n",
        "    # Extract the values of the attributes\n",
        "    id_val = row.get('Id')\n",
        "    post_type_id = row.get('PostTypeId')\n",
        "    accepted_answer_id = row.get('AcceptedAnswerId')\n",
        "    score = row.get('Score')\n",
        "    Title = row.get('Title')\n",
        "    view_count = row.get('ViewCount')\n",
        "    Tags = row.get('Tags')\n",
        "    body = row.get('Body')\n",
        "    answer_count = row.get('AnswerCount')\n",
        "    comment_count = row.get('CommentCount')\n",
        "    favorite_count = row.get('FavoriteCount')\n",
        "    \n",
        "    # Append the attribute values as a list to the data list\n",
        "    if int(post_type_id) == 1:\n",
        "             data.append([id_val, post_type_id, accepted_answer_id,score,view_count,Tags,Title, body,answer_count, comment_count, favorite_count])\n",
        "\n",
        "# Create a Pandas DataFrame from the data list and the columns list\n",
        "df = pd.DataFrame(data, columns=columns)\n",
        "\n",
        "df.to_csv('dataset.csv', index=False)\n",
        "print('dataset.csv created ')"
      ]
    },
    {
      "cell_type": "markdown",
      "source": [
        "**2.we need to sample the dataset because dataset is very big so we are using Simple Random Sampling**"
      ],
      "metadata": {
        "id": "UdMPw02fyAc8"
      }
    },
    {
      "cell_type": "code",
      "source": [
        "\n",
        "\n",
        "# load your data into a DataFrame (replace 'data.csv' with your data file name)\n",
        "df = pd.read_csv('dataset.csv',encoding='iso-8859-1')\n",
        "\n",
        "# randomly sample 50000 rows from the DataFrame\n",
        "sample = df.sample(n=50000, replace=False, random_state=42)\n",
        "print('Shape of dataset',sample.shape)\n",
        "# print the sample\n",
        "sample.to_csv('sampled_dataset.csv')\n",
        "print('sampled_dataset created')\n",
        "\n"
      ],
      "metadata": {
        "colab": {
          "base_uri": "https://localhost:8080/"
        },
        "id": "6tTuLNB-xy7y",
        "outputId": "cdcf07b1-14f3-49ea-94f5-ed9730fd75be"
      },
      "execution_count": 73,
      "outputs": [
        {
          "output_type": "stream",
          "name": "stdout",
          "text": [
            "Shape of dataset (50000, 11)\n",
            "sampled_dataset created\n"
          ]
        }
      ]
    },
    {
      "cell_type": "markdown",
      "source": [
        "**3.create sample dataset**\n",
        "\n",
        "**we need to create dependent feature based on independent features score and AnswerCount. we are using some conditions**"
      ],
      "metadata": {
        "id": "7vvyZBtyzqrd"
      }
    },
    {
      "cell_type": "code",
      "source": [
        "# load your data into a DataFrame (replace 'data.csv' with your data file name)\n",
        "df = pd.read_csv('sampled_dataset.csv')\n",
        "\n",
        "# create a new column that labels each question as \"good quality\", \"low quality\", or \"very-low quality\"\n",
        "def label_question(row):\n",
        "    if row['Score'] > 5 and row['AnswerCount'] > 0:\n",
        "        return 'good quality'\n",
        "    elif row['Score'] >= 0 and row['Score'] <=5 and row['AnswerCount'] >= 0:\n",
        "        return 'low quality'\n",
        "    elif row['Score'] < 0:\n",
        "        return 'very low quality'\n",
        "    else:\n",
        "        return 'unknown'\n",
        "\n",
        "df['question_quality'] = df.apply(label_question, axis=1)\n",
        "\n",
        "# save dataframe to csv file\n",
        "df.to_csv(\"complete_dataset.csv\")\n",
        "print('complete_dataset created')\n"
      ],
      "metadata": {
        "colab": {
          "base_uri": "https://localhost:8080/"
        },
        "id": "v9VNtFEGz2ac",
        "outputId": "710a30a7-a94d-4a84-c382-71b9db50f34c"
      },
      "execution_count": 74,
      "outputs": [
        {
          "output_type": "stream",
          "name": "stdout",
          "text": [
            "complete_dataset created\n"
          ]
        }
      ]
    },
    {
      "cell_type": "code",
      "source": [
        "data=pd.read_csv(\"complete_dataset.csv\")"
      ],
      "metadata": {
        "id": "kbUo2Q3x0QTa"
      },
      "execution_count": 75,
      "outputs": []
    },
    {
      "cell_type": "markdown",
      "source": [
        "#**2.Data Cleaning**"
      ],
      "metadata": {
        "id": "HdcPvd6m4T8P"
      }
    },
    {
      "cell_type": "markdown",
      "source": [
        "**Dropping not related/important column**\n",
        "\n",
        "**As we are are not using columns AnswerCount and Score because we used them to create dependend column so we are dropping them also**"
      ],
      "metadata": {
        "id": "OoW24MYF6TTW"
      }
    },
    {
      "cell_type": "code",
      "source": [
        "col=['Unnamed: 0','Unnamed: 0.1','Id','PostTypeId','AcceptedAnswerId','AnswerCount','Score']\n",
        "data.drop(col,inplace =True,axis=1)\n",
        " "
      ],
      "metadata": {
        "id": "iCt_pqlE4eLQ"
      },
      "execution_count": 76,
      "outputs": []
    },
    {
      "cell_type": "markdown",
      "source": [
        "**We are converting Title and body into length of body and title data**\n",
        "\n",
        "**Clean tags or unwanted charecters this from Body column text**\n",
        "\n"
      ],
      "metadata": {
        "id": "zSVZFqX66oT5"
      }
    },
    {
      "cell_type": "code",
      "source": [
        "# Remove <p> and </p> tags from the 'Body' column\n",
        "data['Body'] = data['Body'].str.replace('<p>', '').str.replace('</p>', '')\n",
        "data.head()"
      ],
      "metadata": {
        "colab": {
          "base_uri": "https://localhost:8080/",
          "height": 206
        },
        "id": "o2LagGog6qqy",
        "outputId": "87f755ff-a75e-4010-becc-28e0b3de44de"
      },
      "execution_count": 77,
      "outputs": [
        {
          "output_type": "execute_result",
          "data": {
            "text/plain": [
              "   ViewCount                                               Tags  \\\n",
              "0        165      <electromagnetism><electromagnetic-induction>   \n",
              "1      15804  <newtonian-mechanics><classical-mechanics><flu...   \n",
              "2        965  <condensed-matter><solid-state-physics><diffra...   \n",
              "3        110      <string-theory><topology><branes><calabi-yau>   \n",
              "4         59  <homework-and-exercises><electromagnetism><mag...   \n",
              "\n",
              "                                               Title  \\\n",
              "0        What is doing work in eddy current braking?   \n",
              "1  Why is a beam reach the fastest point of sail ...   \n",
              "2  What does $d$-spacing between planes in a crys...   \n",
              "3  D-brane wrapping in the geometric transition f...   \n",
              "4  Show $2(B \\cdot \\nabla)B = \\nabla |B|^2$ when ...   \n",
              "\n",
              "                                                Body  CommentCount  \\\n",
              "0  Suppose we throw a metallic plate through the ...             0   \n",
              "1  I've heard that a beam reach (perpendicular to...             4   \n",
              "2  I have trouble understanding the meaning of $d...             1   \n",
              "3  In Stefan Metzger's thesis (<a href=\"https://a...             1   \n",
              "4  I was able to show for myself that \\n<span cla...             2   \n",
              "\n",
              "   FavoriteCount question_quality  \n",
              "0            NaN      low quality  \n",
              "1            5.0     good quality  \n",
              "2            NaN      low quality  \n",
              "3            1.0      low quality  \n",
              "4            NaN      low quality  "
            ],
            "text/html": [
              "\n",
              "  <div id=\"df-fe74e88a-bddb-476e-b321-e63258124672\">\n",
              "    <div class=\"colab-df-container\">\n",
              "      <div>\n",
              "<style scoped>\n",
              "    .dataframe tbody tr th:only-of-type {\n",
              "        vertical-align: middle;\n",
              "    }\n",
              "\n",
              "    .dataframe tbody tr th {\n",
              "        vertical-align: top;\n",
              "    }\n",
              "\n",
              "    .dataframe thead th {\n",
              "        text-align: right;\n",
              "    }\n",
              "</style>\n",
              "<table border=\"1\" class=\"dataframe\">\n",
              "  <thead>\n",
              "    <tr style=\"text-align: right;\">\n",
              "      <th></th>\n",
              "      <th>ViewCount</th>\n",
              "      <th>Tags</th>\n",
              "      <th>Title</th>\n",
              "      <th>Body</th>\n",
              "      <th>CommentCount</th>\n",
              "      <th>FavoriteCount</th>\n",
              "      <th>question_quality</th>\n",
              "    </tr>\n",
              "  </thead>\n",
              "  <tbody>\n",
              "    <tr>\n",
              "      <th>0</th>\n",
              "      <td>165</td>\n",
              "      <td>&lt;electromagnetism&gt;&lt;electromagnetic-induction&gt;</td>\n",
              "      <td>What is doing work in eddy current braking?</td>\n",
              "      <td>Suppose we throw a metallic plate through the ...</td>\n",
              "      <td>0</td>\n",
              "      <td>NaN</td>\n",
              "      <td>low quality</td>\n",
              "    </tr>\n",
              "    <tr>\n",
              "      <th>1</th>\n",
              "      <td>15804</td>\n",
              "      <td>&lt;newtonian-mechanics&gt;&lt;classical-mechanics&gt;&lt;flu...</td>\n",
              "      <td>Why is a beam reach the fastest point of sail ...</td>\n",
              "      <td>I've heard that a beam reach (perpendicular to...</td>\n",
              "      <td>4</td>\n",
              "      <td>5.0</td>\n",
              "      <td>good quality</td>\n",
              "    </tr>\n",
              "    <tr>\n",
              "      <th>2</th>\n",
              "      <td>965</td>\n",
              "      <td>&lt;condensed-matter&gt;&lt;solid-state-physics&gt;&lt;diffra...</td>\n",
              "      <td>What does $d$-spacing between planes in a crys...</td>\n",
              "      <td>I have trouble understanding the meaning of $d...</td>\n",
              "      <td>1</td>\n",
              "      <td>NaN</td>\n",
              "      <td>low quality</td>\n",
              "    </tr>\n",
              "    <tr>\n",
              "      <th>3</th>\n",
              "      <td>110</td>\n",
              "      <td>&lt;string-theory&gt;&lt;topology&gt;&lt;branes&gt;&lt;calabi-yau&gt;</td>\n",
              "      <td>D-brane wrapping in the geometric transition f...</td>\n",
              "      <td>In Stefan Metzger's thesis (&lt;a href=\"https://a...</td>\n",
              "      <td>1</td>\n",
              "      <td>1.0</td>\n",
              "      <td>low quality</td>\n",
              "    </tr>\n",
              "    <tr>\n",
              "      <th>4</th>\n",
              "      <td>59</td>\n",
              "      <td>&lt;homework-and-exercises&gt;&lt;electromagnetism&gt;&lt;mag...</td>\n",
              "      <td>Show $2(B \\cdot \\nabla)B = \\nabla |B|^2$ when ...</td>\n",
              "      <td>I was able to show for myself that \\n&lt;span cla...</td>\n",
              "      <td>2</td>\n",
              "      <td>NaN</td>\n",
              "      <td>low quality</td>\n",
              "    </tr>\n",
              "  </tbody>\n",
              "</table>\n",
              "</div>\n",
              "      <button class=\"colab-df-convert\" onclick=\"convertToInteractive('df-fe74e88a-bddb-476e-b321-e63258124672')\"\n",
              "              title=\"Convert this dataframe to an interactive table.\"\n",
              "              style=\"display:none;\">\n",
              "        \n",
              "  <svg xmlns=\"http://www.w3.org/2000/svg\" height=\"24px\"viewBox=\"0 0 24 24\"\n",
              "       width=\"24px\">\n",
              "    <path d=\"M0 0h24v24H0V0z\" fill=\"none\"/>\n",
              "    <path d=\"M18.56 5.44l.94 2.06.94-2.06 2.06-.94-2.06-.94-.94-2.06-.94 2.06-2.06.94zm-11 1L8.5 8.5l.94-2.06 2.06-.94-2.06-.94L8.5 2.5l-.94 2.06-2.06.94zm10 10l.94 2.06.94-2.06 2.06-.94-2.06-.94-.94-2.06-.94 2.06-2.06.94z\"/><path d=\"M17.41 7.96l-1.37-1.37c-.4-.4-.92-.59-1.43-.59-.52 0-1.04.2-1.43.59L10.3 9.45l-7.72 7.72c-.78.78-.78 2.05 0 2.83L4 21.41c.39.39.9.59 1.41.59.51 0 1.02-.2 1.41-.59l7.78-7.78 2.81-2.81c.8-.78.8-2.07 0-2.86zM5.41 20L4 18.59l7.72-7.72 1.47 1.35L5.41 20z\"/>\n",
              "  </svg>\n",
              "      </button>\n",
              "      \n",
              "  <style>\n",
              "    .colab-df-container {\n",
              "      display:flex;\n",
              "      flex-wrap:wrap;\n",
              "      gap: 12px;\n",
              "    }\n",
              "\n",
              "    .colab-df-convert {\n",
              "      background-color: #E8F0FE;\n",
              "      border: none;\n",
              "      border-radius: 50%;\n",
              "      cursor: pointer;\n",
              "      display: none;\n",
              "      fill: #1967D2;\n",
              "      height: 32px;\n",
              "      padding: 0 0 0 0;\n",
              "      width: 32px;\n",
              "    }\n",
              "\n",
              "    .colab-df-convert:hover {\n",
              "      background-color: #E2EBFA;\n",
              "      box-shadow: 0px 1px 2px rgba(60, 64, 67, 0.3), 0px 1px 3px 1px rgba(60, 64, 67, 0.15);\n",
              "      fill: #174EA6;\n",
              "    }\n",
              "\n",
              "    [theme=dark] .colab-df-convert {\n",
              "      background-color: #3B4455;\n",
              "      fill: #D2E3FC;\n",
              "    }\n",
              "\n",
              "    [theme=dark] .colab-df-convert:hover {\n",
              "      background-color: #434B5C;\n",
              "      box-shadow: 0px 1px 3px 1px rgba(0, 0, 0, 0.15);\n",
              "      filter: drop-shadow(0px 1px 2px rgba(0, 0, 0, 0.3));\n",
              "      fill: #FFFFFF;\n",
              "    }\n",
              "  </style>\n",
              "\n",
              "      <script>\n",
              "        const buttonEl =\n",
              "          document.querySelector('#df-fe74e88a-bddb-476e-b321-e63258124672 button.colab-df-convert');\n",
              "        buttonEl.style.display =\n",
              "          google.colab.kernel.accessAllowed ? 'block' : 'none';\n",
              "\n",
              "        async function convertToInteractive(key) {\n",
              "          const element = document.querySelector('#df-fe74e88a-bddb-476e-b321-e63258124672');\n",
              "          const dataTable =\n",
              "            await google.colab.kernel.invokeFunction('convertToInteractive',\n",
              "                                                     [key], {});\n",
              "          if (!dataTable) return;\n",
              "\n",
              "          const docLinkHtml = 'Like what you see? Visit the ' +\n",
              "            '<a target=\"_blank\" href=https://colab.research.google.com/notebooks/data_table.ipynb>data table notebook</a>'\n",
              "            + ' to learn more about interactive tables.';\n",
              "          element.innerHTML = '';\n",
              "          dataTable['output_type'] = 'display_data';\n",
              "          await google.colab.output.renderOutput(dataTable, element);\n",
              "          const docLink = document.createElement('div');\n",
              "          docLink.innerHTML = docLinkHtml;\n",
              "          element.appendChild(docLink);\n",
              "        }\n",
              "      </script>\n",
              "    </div>\n",
              "  </div>\n",
              "  "
            ]
          },
          "metadata": {},
          "execution_count": 77
        }
      ]
    },
    {
      "cell_type": "markdown",
      "source": [
        "**We are adding features character count and word count for the 'Title' column and 'Body' column**"
      ],
      "metadata": {
        "id": "CnYREHDZ7VfC"
      }
    },
    {
      "cell_type": "code",
      "source": [
        "# Calculate the character count and word count for the 'Title' column and 'Body' column\n",
        "data['Title_Text_Length'] = data['Title'].str.len()\n",
        "\n",
        "\n",
        "data['Body_Text_Length'] = data['Body'].str.len()\n",
        "\n",
        "data['Body_Sentences_Count'] = data['Body'].apply(lambda x: len(str(x).split('.')) if isinstance(x, str) else 0)\n",
        "data.head()"
      ],
      "metadata": {
        "colab": {
          "base_uri": "https://localhost:8080/",
          "height": 337
        },
        "id": "7GNJoO917gsc",
        "outputId": "d94531b4-7bf9-482c-8a53-0a85dcac36ec"
      },
      "execution_count": 78,
      "outputs": [
        {
          "output_type": "execute_result",
          "data": {
            "text/plain": [
              "   ViewCount                                               Tags  \\\n",
              "0        165      <electromagnetism><electromagnetic-induction>   \n",
              "1      15804  <newtonian-mechanics><classical-mechanics><flu...   \n",
              "2        965  <condensed-matter><solid-state-physics><diffra...   \n",
              "3        110      <string-theory><topology><branes><calabi-yau>   \n",
              "4         59  <homework-and-exercises><electromagnetism><mag...   \n",
              "\n",
              "                                               Title  \\\n",
              "0        What is doing work in eddy current braking?   \n",
              "1  Why is a beam reach the fastest point of sail ...   \n",
              "2  What does $d$-spacing between planes in a crys...   \n",
              "3  D-brane wrapping in the geometric transition f...   \n",
              "4  Show $2(B \\cdot \\nabla)B = \\nabla |B|^2$ when ...   \n",
              "\n",
              "                                                Body  CommentCount  \\\n",
              "0  Suppose we throw a metallic plate through the ...             0   \n",
              "1  I've heard that a beam reach (perpendicular to...             4   \n",
              "2  I have trouble understanding the meaning of $d...             1   \n",
              "3  In Stefan Metzger's thesis (<a href=\"https://a...             1   \n",
              "4  I was able to show for myself that \\n<span cla...             2   \n",
              "\n",
              "   FavoriteCount question_quality  Title_Text_Length  Body_Text_Length  \\\n",
              "0            NaN      low quality                 43               840   \n",
              "1            5.0     good quality                 66              2139   \n",
              "2            NaN      low quality                 63               445   \n",
              "3            1.0      low quality                 82              1477   \n",
              "4            NaN      low quality                 95               628   \n",
              "\n",
              "   Body_Sentences_Count  \n",
              "0                     9  \n",
              "1                    12  \n",
              "2                     4  \n",
              "3                    11  \n",
              "4                     8  "
            ],
            "text/html": [
              "\n",
              "  <div id=\"df-de90645a-c9b3-4802-8344-541cbc61cef7\">\n",
              "    <div class=\"colab-df-container\">\n",
              "      <div>\n",
              "<style scoped>\n",
              "    .dataframe tbody tr th:only-of-type {\n",
              "        vertical-align: middle;\n",
              "    }\n",
              "\n",
              "    .dataframe tbody tr th {\n",
              "        vertical-align: top;\n",
              "    }\n",
              "\n",
              "    .dataframe thead th {\n",
              "        text-align: right;\n",
              "    }\n",
              "</style>\n",
              "<table border=\"1\" class=\"dataframe\">\n",
              "  <thead>\n",
              "    <tr style=\"text-align: right;\">\n",
              "      <th></th>\n",
              "      <th>ViewCount</th>\n",
              "      <th>Tags</th>\n",
              "      <th>Title</th>\n",
              "      <th>Body</th>\n",
              "      <th>CommentCount</th>\n",
              "      <th>FavoriteCount</th>\n",
              "      <th>question_quality</th>\n",
              "      <th>Title_Text_Length</th>\n",
              "      <th>Body_Text_Length</th>\n",
              "      <th>Body_Sentences_Count</th>\n",
              "    </tr>\n",
              "  </thead>\n",
              "  <tbody>\n",
              "    <tr>\n",
              "      <th>0</th>\n",
              "      <td>165</td>\n",
              "      <td>&lt;electromagnetism&gt;&lt;electromagnetic-induction&gt;</td>\n",
              "      <td>What is doing work in eddy current braking?</td>\n",
              "      <td>Suppose we throw a metallic plate through the ...</td>\n",
              "      <td>0</td>\n",
              "      <td>NaN</td>\n",
              "      <td>low quality</td>\n",
              "      <td>43</td>\n",
              "      <td>840</td>\n",
              "      <td>9</td>\n",
              "    </tr>\n",
              "    <tr>\n",
              "      <th>1</th>\n",
              "      <td>15804</td>\n",
              "      <td>&lt;newtonian-mechanics&gt;&lt;classical-mechanics&gt;&lt;flu...</td>\n",
              "      <td>Why is a beam reach the fastest point of sail ...</td>\n",
              "      <td>I've heard that a beam reach (perpendicular to...</td>\n",
              "      <td>4</td>\n",
              "      <td>5.0</td>\n",
              "      <td>good quality</td>\n",
              "      <td>66</td>\n",
              "      <td>2139</td>\n",
              "      <td>12</td>\n",
              "    </tr>\n",
              "    <tr>\n",
              "      <th>2</th>\n",
              "      <td>965</td>\n",
              "      <td>&lt;condensed-matter&gt;&lt;solid-state-physics&gt;&lt;diffra...</td>\n",
              "      <td>What does $d$-spacing between planes in a crys...</td>\n",
              "      <td>I have trouble understanding the meaning of $d...</td>\n",
              "      <td>1</td>\n",
              "      <td>NaN</td>\n",
              "      <td>low quality</td>\n",
              "      <td>63</td>\n",
              "      <td>445</td>\n",
              "      <td>4</td>\n",
              "    </tr>\n",
              "    <tr>\n",
              "      <th>3</th>\n",
              "      <td>110</td>\n",
              "      <td>&lt;string-theory&gt;&lt;topology&gt;&lt;branes&gt;&lt;calabi-yau&gt;</td>\n",
              "      <td>D-brane wrapping in the geometric transition f...</td>\n",
              "      <td>In Stefan Metzger's thesis (&lt;a href=\"https://a...</td>\n",
              "      <td>1</td>\n",
              "      <td>1.0</td>\n",
              "      <td>low quality</td>\n",
              "      <td>82</td>\n",
              "      <td>1477</td>\n",
              "      <td>11</td>\n",
              "    </tr>\n",
              "    <tr>\n",
              "      <th>4</th>\n",
              "      <td>59</td>\n",
              "      <td>&lt;homework-and-exercises&gt;&lt;electromagnetism&gt;&lt;mag...</td>\n",
              "      <td>Show $2(B \\cdot \\nabla)B = \\nabla |B|^2$ when ...</td>\n",
              "      <td>I was able to show for myself that \\n&lt;span cla...</td>\n",
              "      <td>2</td>\n",
              "      <td>NaN</td>\n",
              "      <td>low quality</td>\n",
              "      <td>95</td>\n",
              "      <td>628</td>\n",
              "      <td>8</td>\n",
              "    </tr>\n",
              "  </tbody>\n",
              "</table>\n",
              "</div>\n",
              "      <button class=\"colab-df-convert\" onclick=\"convertToInteractive('df-de90645a-c9b3-4802-8344-541cbc61cef7')\"\n",
              "              title=\"Convert this dataframe to an interactive table.\"\n",
              "              style=\"display:none;\">\n",
              "        \n",
              "  <svg xmlns=\"http://www.w3.org/2000/svg\" height=\"24px\"viewBox=\"0 0 24 24\"\n",
              "       width=\"24px\">\n",
              "    <path d=\"M0 0h24v24H0V0z\" fill=\"none\"/>\n",
              "    <path d=\"M18.56 5.44l.94 2.06.94-2.06 2.06-.94-2.06-.94-.94-2.06-.94 2.06-2.06.94zm-11 1L8.5 8.5l.94-2.06 2.06-.94-2.06-.94L8.5 2.5l-.94 2.06-2.06.94zm10 10l.94 2.06.94-2.06 2.06-.94-2.06-.94-.94-2.06-.94 2.06-2.06.94z\"/><path d=\"M17.41 7.96l-1.37-1.37c-.4-.4-.92-.59-1.43-.59-.52 0-1.04.2-1.43.59L10.3 9.45l-7.72 7.72c-.78.78-.78 2.05 0 2.83L4 21.41c.39.39.9.59 1.41.59.51 0 1.02-.2 1.41-.59l7.78-7.78 2.81-2.81c.8-.78.8-2.07 0-2.86zM5.41 20L4 18.59l7.72-7.72 1.47 1.35L5.41 20z\"/>\n",
              "  </svg>\n",
              "      </button>\n",
              "      \n",
              "  <style>\n",
              "    .colab-df-container {\n",
              "      display:flex;\n",
              "      flex-wrap:wrap;\n",
              "      gap: 12px;\n",
              "    }\n",
              "\n",
              "    .colab-df-convert {\n",
              "      background-color: #E8F0FE;\n",
              "      border: none;\n",
              "      border-radius: 50%;\n",
              "      cursor: pointer;\n",
              "      display: none;\n",
              "      fill: #1967D2;\n",
              "      height: 32px;\n",
              "      padding: 0 0 0 0;\n",
              "      width: 32px;\n",
              "    }\n",
              "\n",
              "    .colab-df-convert:hover {\n",
              "      background-color: #E2EBFA;\n",
              "      box-shadow: 0px 1px 2px rgba(60, 64, 67, 0.3), 0px 1px 3px 1px rgba(60, 64, 67, 0.15);\n",
              "      fill: #174EA6;\n",
              "    }\n",
              "\n",
              "    [theme=dark] .colab-df-convert {\n",
              "      background-color: #3B4455;\n",
              "      fill: #D2E3FC;\n",
              "    }\n",
              "\n",
              "    [theme=dark] .colab-df-convert:hover {\n",
              "      background-color: #434B5C;\n",
              "      box-shadow: 0px 1px 3px 1px rgba(0, 0, 0, 0.15);\n",
              "      filter: drop-shadow(0px 1px 2px rgba(0, 0, 0, 0.3));\n",
              "      fill: #FFFFFF;\n",
              "    }\n",
              "  </style>\n",
              "\n",
              "      <script>\n",
              "        const buttonEl =\n",
              "          document.querySelector('#df-de90645a-c9b3-4802-8344-541cbc61cef7 button.colab-df-convert');\n",
              "        buttonEl.style.display =\n",
              "          google.colab.kernel.accessAllowed ? 'block' : 'none';\n",
              "\n",
              "        async function convertToInteractive(key) {\n",
              "          const element = document.querySelector('#df-de90645a-c9b3-4802-8344-541cbc61cef7');\n",
              "          const dataTable =\n",
              "            await google.colab.kernel.invokeFunction('convertToInteractive',\n",
              "                                                     [key], {});\n",
              "          if (!dataTable) return;\n",
              "\n",
              "          const docLinkHtml = 'Like what you see? Visit the ' +\n",
              "            '<a target=\"_blank\" href=https://colab.research.google.com/notebooks/data_table.ipynb>data table notebook</a>'\n",
              "            + ' to learn more about interactive tables.';\n",
              "          element.innerHTML = '';\n",
              "          dataTable['output_type'] = 'display_data';\n",
              "          await google.colab.output.renderOutput(dataTable, element);\n",
              "          const docLink = document.createElement('div');\n",
              "          docLink.innerHTML = docLinkHtml;\n",
              "          element.appendChild(docLink);\n",
              "        }\n",
              "      </script>\n",
              "    </div>\n",
              "  </div>\n",
              "  "
            ]
          },
          "metadata": {},
          "execution_count": 78
        }
      ]
    },
    {
      "cell_type": "code",
      "source": [
        "df=data.copy()"
      ],
      "metadata": {
        "id": "SQRQYciL78Qn"
      },
      "execution_count": 79,
      "outputs": []
    },
    {
      "cell_type": "markdown",
      "source": [
        "**Drop Title and Body Columns**"
      ],
      "metadata": {
        "id": "15qSeSEd8D6e"
      }
    },
    {
      "cell_type": "markdown",
      "source": [
        "**We are removing tags column because i have checked tags column only increasing complexity rather inhancing accuracy**"
      ],
      "metadata": {
        "id": "174vdHB8_NB_"
      }
    },
    {
      "cell_type": "code",
      "source": [
        "col=['Title','Body','Tags']\n",
        "data.drop(col,inplace =True,axis=1)"
      ],
      "metadata": {
        "id": "SW8aHhY38CiM"
      },
      "execution_count": 80,
      "outputs": []
    },
    {
      "cell_type": "code",
      "source": [
        "data.isnull().sum()"
      ],
      "metadata": {
        "colab": {
          "base_uri": "https://localhost:8080/"
        },
        "id": "bdZ6M6hV8Ljt",
        "outputId": "c174e331-a5d9-4871-f940-4c000680cbd0"
      },
      "execution_count": 81,
      "outputs": [
        {
          "output_type": "execute_result",
          "data": {
            "text/plain": [
              "ViewCount                   0\n",
              "CommentCount                0\n",
              "FavoriteCount           29054\n",
              "question_quality            0\n",
              "Title_Text_Length           0\n",
              "Body_Text_Length            0\n",
              "Body_Sentences_Count        0\n",
              "dtype: int64"
            ]
          },
          "metadata": {},
          "execution_count": 81
        }
      ]
    },
    {
      "cell_type": "markdown",
      "source": [
        "**As in FavoriteCount more than 50% data is Nan we should drop that column**\n",
        "\n",
        "**Other column null data very less so we can drop that rows**"
      ],
      "metadata": {
        "id": "hetDS3KI8U0F"
      }
    },
    {
      "cell_type": "code",
      "source": [
        "data.shape"
      ],
      "metadata": {
        "colab": {
          "base_uri": "https://localhost:8080/"
        },
        "id": "dBNDFGmMAza6",
        "outputId": "9834528e-4af2-49db-d07d-05c79c4e2201"
      },
      "execution_count": 82,
      "outputs": [
        {
          "output_type": "execute_result",
          "data": {
            "text/plain": [
              "(50000, 7)"
            ]
          },
          "metadata": {},
          "execution_count": 82
        }
      ]
    },
    {
      "cell_type": "code",
      "source": [
        "data.drop('FavoriteCount',inplace=True,axis=1)\n",
        "data.shape"
      ],
      "metadata": {
        "colab": {
          "base_uri": "https://localhost:8080/"
        },
        "id": "7MHEO9se8WKJ",
        "outputId": "28717386-983f-4258-b4b0-f301ed94027d"
      },
      "execution_count": 83,
      "outputs": [
        {
          "output_type": "execute_result",
          "data": {
            "text/plain": [
              "(50000, 6)"
            ]
          },
          "metadata": {},
          "execution_count": 83
        }
      ]
    },
    {
      "cell_type": "markdown",
      "source": [
        "**Check Duplicates**"
      ],
      "metadata": {
        "id": "Fp9t1Qjb8lUD"
      }
    },
    {
      "cell_type": "code",
      "source": [
        "data.duplicated().sum()   #as there are no duplicated data"
      ],
      "metadata": {
        "colab": {
          "base_uri": "https://localhost:8080/"
        },
        "id": "aNtOnIj58ohY",
        "outputId": "02b3e165-28ac-4604-f1bd-29685e964119"
      },
      "execution_count": 84,
      "outputs": [
        {
          "output_type": "execute_result",
          "data": {
            "text/plain": [
              "0"
            ]
          },
          "metadata": {},
          "execution_count": 84
        }
      ]
    },
    {
      "cell_type": "code",
      "source": [
        "data.describe()"
      ],
      "metadata": {
        "colab": {
          "base_uri": "https://localhost:8080/",
          "height": 300
        },
        "id": "DitoMdz18y38",
        "outputId": "6de4b715-254d-45cd-af24-0d240454e91b"
      },
      "execution_count": 85,
      "outputs": [
        {
          "output_type": "execute_result",
          "data": {
            "text/plain": [
              "           ViewCount  CommentCount  Title_Text_Length  Body_Text_Length  \\\n",
              "count   50000.000000  50000.000000       50000.000000      50000.000000   \n",
              "mean     1328.180280      2.389200          57.130680        873.786940   \n",
              "std      5967.521876      2.876333          24.526157        806.070576   \n",
              "min         3.000000      0.000000          15.000000         32.000000   \n",
              "25%        83.000000      0.000000          39.000000        372.000000   \n",
              "50%       219.000000      2.000000          53.000000        650.000000   \n",
              "75%       731.000000      3.000000          71.000000       1109.000000   \n",
              "max    434533.000000     34.000000         163.000000      23809.000000   \n",
              "\n",
              "       Body_Sentences_Count  \n",
              "count           50000.00000  \n",
              "mean                8.21548  \n",
              "std                 8.07531  \n",
              "min                 1.00000  \n",
              "25%                 3.00000  \n",
              "50%                 6.00000  \n",
              "75%                11.00000  \n",
              "max               250.00000  "
            ],
            "text/html": [
              "\n",
              "  <div id=\"df-95614731-3d84-4573-9452-4ac31c637958\">\n",
              "    <div class=\"colab-df-container\">\n",
              "      <div>\n",
              "<style scoped>\n",
              "    .dataframe tbody tr th:only-of-type {\n",
              "        vertical-align: middle;\n",
              "    }\n",
              "\n",
              "    .dataframe tbody tr th {\n",
              "        vertical-align: top;\n",
              "    }\n",
              "\n",
              "    .dataframe thead th {\n",
              "        text-align: right;\n",
              "    }\n",
              "</style>\n",
              "<table border=\"1\" class=\"dataframe\">\n",
              "  <thead>\n",
              "    <tr style=\"text-align: right;\">\n",
              "      <th></th>\n",
              "      <th>ViewCount</th>\n",
              "      <th>CommentCount</th>\n",
              "      <th>Title_Text_Length</th>\n",
              "      <th>Body_Text_Length</th>\n",
              "      <th>Body_Sentences_Count</th>\n",
              "    </tr>\n",
              "  </thead>\n",
              "  <tbody>\n",
              "    <tr>\n",
              "      <th>count</th>\n",
              "      <td>50000.000000</td>\n",
              "      <td>50000.000000</td>\n",
              "      <td>50000.000000</td>\n",
              "      <td>50000.000000</td>\n",
              "      <td>50000.00000</td>\n",
              "    </tr>\n",
              "    <tr>\n",
              "      <th>mean</th>\n",
              "      <td>1328.180280</td>\n",
              "      <td>2.389200</td>\n",
              "      <td>57.130680</td>\n",
              "      <td>873.786940</td>\n",
              "      <td>8.21548</td>\n",
              "    </tr>\n",
              "    <tr>\n",
              "      <th>std</th>\n",
              "      <td>5967.521876</td>\n",
              "      <td>2.876333</td>\n",
              "      <td>24.526157</td>\n",
              "      <td>806.070576</td>\n",
              "      <td>8.07531</td>\n",
              "    </tr>\n",
              "    <tr>\n",
              "      <th>min</th>\n",
              "      <td>3.000000</td>\n",
              "      <td>0.000000</td>\n",
              "      <td>15.000000</td>\n",
              "      <td>32.000000</td>\n",
              "      <td>1.00000</td>\n",
              "    </tr>\n",
              "    <tr>\n",
              "      <th>25%</th>\n",
              "      <td>83.000000</td>\n",
              "      <td>0.000000</td>\n",
              "      <td>39.000000</td>\n",
              "      <td>372.000000</td>\n",
              "      <td>3.00000</td>\n",
              "    </tr>\n",
              "    <tr>\n",
              "      <th>50%</th>\n",
              "      <td>219.000000</td>\n",
              "      <td>2.000000</td>\n",
              "      <td>53.000000</td>\n",
              "      <td>650.000000</td>\n",
              "      <td>6.00000</td>\n",
              "    </tr>\n",
              "    <tr>\n",
              "      <th>75%</th>\n",
              "      <td>731.000000</td>\n",
              "      <td>3.000000</td>\n",
              "      <td>71.000000</td>\n",
              "      <td>1109.000000</td>\n",
              "      <td>11.00000</td>\n",
              "    </tr>\n",
              "    <tr>\n",
              "      <th>max</th>\n",
              "      <td>434533.000000</td>\n",
              "      <td>34.000000</td>\n",
              "      <td>163.000000</td>\n",
              "      <td>23809.000000</td>\n",
              "      <td>250.00000</td>\n",
              "    </tr>\n",
              "  </tbody>\n",
              "</table>\n",
              "</div>\n",
              "      <button class=\"colab-df-convert\" onclick=\"convertToInteractive('df-95614731-3d84-4573-9452-4ac31c637958')\"\n",
              "              title=\"Convert this dataframe to an interactive table.\"\n",
              "              style=\"display:none;\">\n",
              "        \n",
              "  <svg xmlns=\"http://www.w3.org/2000/svg\" height=\"24px\"viewBox=\"0 0 24 24\"\n",
              "       width=\"24px\">\n",
              "    <path d=\"M0 0h24v24H0V0z\" fill=\"none\"/>\n",
              "    <path d=\"M18.56 5.44l.94 2.06.94-2.06 2.06-.94-2.06-.94-.94-2.06-.94 2.06-2.06.94zm-11 1L8.5 8.5l.94-2.06 2.06-.94-2.06-.94L8.5 2.5l-.94 2.06-2.06.94zm10 10l.94 2.06.94-2.06 2.06-.94-2.06-.94-.94-2.06-.94 2.06-2.06.94z\"/><path d=\"M17.41 7.96l-1.37-1.37c-.4-.4-.92-.59-1.43-.59-.52 0-1.04.2-1.43.59L10.3 9.45l-7.72 7.72c-.78.78-.78 2.05 0 2.83L4 21.41c.39.39.9.59 1.41.59.51 0 1.02-.2 1.41-.59l7.78-7.78 2.81-2.81c.8-.78.8-2.07 0-2.86zM5.41 20L4 18.59l7.72-7.72 1.47 1.35L5.41 20z\"/>\n",
              "  </svg>\n",
              "      </button>\n",
              "      \n",
              "  <style>\n",
              "    .colab-df-container {\n",
              "      display:flex;\n",
              "      flex-wrap:wrap;\n",
              "      gap: 12px;\n",
              "    }\n",
              "\n",
              "    .colab-df-convert {\n",
              "      background-color: #E8F0FE;\n",
              "      border: none;\n",
              "      border-radius: 50%;\n",
              "      cursor: pointer;\n",
              "      display: none;\n",
              "      fill: #1967D2;\n",
              "      height: 32px;\n",
              "      padding: 0 0 0 0;\n",
              "      width: 32px;\n",
              "    }\n",
              "\n",
              "    .colab-df-convert:hover {\n",
              "      background-color: #E2EBFA;\n",
              "      box-shadow: 0px 1px 2px rgba(60, 64, 67, 0.3), 0px 1px 3px 1px rgba(60, 64, 67, 0.15);\n",
              "      fill: #174EA6;\n",
              "    }\n",
              "\n",
              "    [theme=dark] .colab-df-convert {\n",
              "      background-color: #3B4455;\n",
              "      fill: #D2E3FC;\n",
              "    }\n",
              "\n",
              "    [theme=dark] .colab-df-convert:hover {\n",
              "      background-color: #434B5C;\n",
              "      box-shadow: 0px 1px 3px 1px rgba(0, 0, 0, 0.15);\n",
              "      filter: drop-shadow(0px 1px 2px rgba(0, 0, 0, 0.3));\n",
              "      fill: #FFFFFF;\n",
              "    }\n",
              "  </style>\n",
              "\n",
              "      <script>\n",
              "        const buttonEl =\n",
              "          document.querySelector('#df-95614731-3d84-4573-9452-4ac31c637958 button.colab-df-convert');\n",
              "        buttonEl.style.display =\n",
              "          google.colab.kernel.accessAllowed ? 'block' : 'none';\n",
              "\n",
              "        async function convertToInteractive(key) {\n",
              "          const element = document.querySelector('#df-95614731-3d84-4573-9452-4ac31c637958');\n",
              "          const dataTable =\n",
              "            await google.colab.kernel.invokeFunction('convertToInteractive',\n",
              "                                                     [key], {});\n",
              "          if (!dataTable) return;\n",
              "\n",
              "          const docLinkHtml = 'Like what you see? Visit the ' +\n",
              "            '<a target=\"_blank\" href=https://colab.research.google.com/notebooks/data_table.ipynb>data table notebook</a>'\n",
              "            + ' to learn more about interactive tables.';\n",
              "          element.innerHTML = '';\n",
              "          dataTable['output_type'] = 'display_data';\n",
              "          await google.colab.output.renderOutput(dataTable, element);\n",
              "          const docLink = document.createElement('div');\n",
              "          docLink.innerHTML = docLinkHtml;\n",
              "          element.appendChild(docLink);\n",
              "        }\n",
              "      </script>\n",
              "    </div>\n",
              "  </div>\n",
              "  "
            ]
          },
          "metadata": {},
          "execution_count": 85
        }
      ]
    },
    {
      "cell_type": "markdown",
      "source": [
        "**we can see there are outlires but in this case we are not removing it beacuse it might be high quality question that have text length larger means question expplaned better or in good way vice-versa low quality**"
      ],
      "metadata": {
        "id": "i8JhXe2O-A8H"
      }
    },
    {
      "cell_type": "markdown",
      "source": [
        "**Check data type of dataset**"
      ],
      "metadata": {
        "id": "EKWkhVmU-qVx"
      }
    },
    {
      "cell_type": "code",
      "source": [
        "data.dtypes"
      ],
      "metadata": {
        "colab": {
          "base_uri": "https://localhost:8080/"
        },
        "id": "snOTgt-G-acm",
        "outputId": "298abd6f-6710-41c9-b44f-dad865152de2"
      },
      "execution_count": 86,
      "outputs": [
        {
          "output_type": "execute_result",
          "data": {
            "text/plain": [
              "ViewCount                int64\n",
              "CommentCount             int64\n",
              "question_quality        object\n",
              "Title_Text_Length        int64\n",
              "Body_Text_Length         int64\n",
              "Body_Sentences_Count     int64\n",
              "dtype: object"
            ]
          },
          "metadata": {},
          "execution_count": 86
        }
      ]
    },
    {
      "cell_type": "markdown",
      "source": [
        "As data type is object should only for question_quality other than that integer int/float must"
      ],
      "metadata": {
        "id": "OUoaQA4c-pSU"
      }
    },
    {
      "cell_type": "code",
      "source": [
        "data"
      ],
      "metadata": {
        "colab": {
          "base_uri": "https://localhost:8080/",
          "height": 423
        },
        "id": "JcSfqbaU-9PJ",
        "outputId": "fabd7f07-9c7c-48b6-fce1-7ba2e739f383"
      },
      "execution_count": 87,
      "outputs": [
        {
          "output_type": "execute_result",
          "data": {
            "text/plain": [
              "       ViewCount  CommentCount question_quality  Title_Text_Length  \\\n",
              "0            165             0      low quality                 43   \n",
              "1          15804             4     good quality                 66   \n",
              "2            965             1      low quality                 63   \n",
              "3            110             1      low quality                 82   \n",
              "4             59             2      low quality                 95   \n",
              "...          ...           ...              ...                ...   \n",
              "49995        421             4     good quality                100   \n",
              "49996        392             0      low quality                121   \n",
              "49997        279             5      low quality                 81   \n",
              "49998       3091             1     good quality                 41   \n",
              "49999         62             0      low quality                 90   \n",
              "\n",
              "       Body_Text_Length  Body_Sentences_Count  \n",
              "0                   840                     9  \n",
              "1                  2139                    12  \n",
              "2                   445                     4  \n",
              "3                  1477                    11  \n",
              "4                   628                     8  \n",
              "...                 ...                   ...  \n",
              "49995               653                     7  \n",
              "49996              1991                    17  \n",
              "49997               717                     1  \n",
              "49998               504                     3  \n",
              "49999               619                     1  \n",
              "\n",
              "[50000 rows x 6 columns]"
            ],
            "text/html": [
              "\n",
              "  <div id=\"df-963769e2-379b-4dc8-bf32-5452141e462e\">\n",
              "    <div class=\"colab-df-container\">\n",
              "      <div>\n",
              "<style scoped>\n",
              "    .dataframe tbody tr th:only-of-type {\n",
              "        vertical-align: middle;\n",
              "    }\n",
              "\n",
              "    .dataframe tbody tr th {\n",
              "        vertical-align: top;\n",
              "    }\n",
              "\n",
              "    .dataframe thead th {\n",
              "        text-align: right;\n",
              "    }\n",
              "</style>\n",
              "<table border=\"1\" class=\"dataframe\">\n",
              "  <thead>\n",
              "    <tr style=\"text-align: right;\">\n",
              "      <th></th>\n",
              "      <th>ViewCount</th>\n",
              "      <th>CommentCount</th>\n",
              "      <th>question_quality</th>\n",
              "      <th>Title_Text_Length</th>\n",
              "      <th>Body_Text_Length</th>\n",
              "      <th>Body_Sentences_Count</th>\n",
              "    </tr>\n",
              "  </thead>\n",
              "  <tbody>\n",
              "    <tr>\n",
              "      <th>0</th>\n",
              "      <td>165</td>\n",
              "      <td>0</td>\n",
              "      <td>low quality</td>\n",
              "      <td>43</td>\n",
              "      <td>840</td>\n",
              "      <td>9</td>\n",
              "    </tr>\n",
              "    <tr>\n",
              "      <th>1</th>\n",
              "      <td>15804</td>\n",
              "      <td>4</td>\n",
              "      <td>good quality</td>\n",
              "      <td>66</td>\n",
              "      <td>2139</td>\n",
              "      <td>12</td>\n",
              "    </tr>\n",
              "    <tr>\n",
              "      <th>2</th>\n",
              "      <td>965</td>\n",
              "      <td>1</td>\n",
              "      <td>low quality</td>\n",
              "      <td>63</td>\n",
              "      <td>445</td>\n",
              "      <td>4</td>\n",
              "    </tr>\n",
              "    <tr>\n",
              "      <th>3</th>\n",
              "      <td>110</td>\n",
              "      <td>1</td>\n",
              "      <td>low quality</td>\n",
              "      <td>82</td>\n",
              "      <td>1477</td>\n",
              "      <td>11</td>\n",
              "    </tr>\n",
              "    <tr>\n",
              "      <th>4</th>\n",
              "      <td>59</td>\n",
              "      <td>2</td>\n",
              "      <td>low quality</td>\n",
              "      <td>95</td>\n",
              "      <td>628</td>\n",
              "      <td>8</td>\n",
              "    </tr>\n",
              "    <tr>\n",
              "      <th>...</th>\n",
              "      <td>...</td>\n",
              "      <td>...</td>\n",
              "      <td>...</td>\n",
              "      <td>...</td>\n",
              "      <td>...</td>\n",
              "      <td>...</td>\n",
              "    </tr>\n",
              "    <tr>\n",
              "      <th>49995</th>\n",
              "      <td>421</td>\n",
              "      <td>4</td>\n",
              "      <td>good quality</td>\n",
              "      <td>100</td>\n",
              "      <td>653</td>\n",
              "      <td>7</td>\n",
              "    </tr>\n",
              "    <tr>\n",
              "      <th>49996</th>\n",
              "      <td>392</td>\n",
              "      <td>0</td>\n",
              "      <td>low quality</td>\n",
              "      <td>121</td>\n",
              "      <td>1991</td>\n",
              "      <td>17</td>\n",
              "    </tr>\n",
              "    <tr>\n",
              "      <th>49997</th>\n",
              "      <td>279</td>\n",
              "      <td>5</td>\n",
              "      <td>low quality</td>\n",
              "      <td>81</td>\n",
              "      <td>717</td>\n",
              "      <td>1</td>\n",
              "    </tr>\n",
              "    <tr>\n",
              "      <th>49998</th>\n",
              "      <td>3091</td>\n",
              "      <td>1</td>\n",
              "      <td>good quality</td>\n",
              "      <td>41</td>\n",
              "      <td>504</td>\n",
              "      <td>3</td>\n",
              "    </tr>\n",
              "    <tr>\n",
              "      <th>49999</th>\n",
              "      <td>62</td>\n",
              "      <td>0</td>\n",
              "      <td>low quality</td>\n",
              "      <td>90</td>\n",
              "      <td>619</td>\n",
              "      <td>1</td>\n",
              "    </tr>\n",
              "  </tbody>\n",
              "</table>\n",
              "<p>50000 rows × 6 columns</p>\n",
              "</div>\n",
              "      <button class=\"colab-df-convert\" onclick=\"convertToInteractive('df-963769e2-379b-4dc8-bf32-5452141e462e')\"\n",
              "              title=\"Convert this dataframe to an interactive table.\"\n",
              "              style=\"display:none;\">\n",
              "        \n",
              "  <svg xmlns=\"http://www.w3.org/2000/svg\" height=\"24px\"viewBox=\"0 0 24 24\"\n",
              "       width=\"24px\">\n",
              "    <path d=\"M0 0h24v24H0V0z\" fill=\"none\"/>\n",
              "    <path d=\"M18.56 5.44l.94 2.06.94-2.06 2.06-.94-2.06-.94-.94-2.06-.94 2.06-2.06.94zm-11 1L8.5 8.5l.94-2.06 2.06-.94-2.06-.94L8.5 2.5l-.94 2.06-2.06.94zm10 10l.94 2.06.94-2.06 2.06-.94-2.06-.94-.94-2.06-.94 2.06-2.06.94z\"/><path d=\"M17.41 7.96l-1.37-1.37c-.4-.4-.92-.59-1.43-.59-.52 0-1.04.2-1.43.59L10.3 9.45l-7.72 7.72c-.78.78-.78 2.05 0 2.83L4 21.41c.39.39.9.59 1.41.59.51 0 1.02-.2 1.41-.59l7.78-7.78 2.81-2.81c.8-.78.8-2.07 0-2.86zM5.41 20L4 18.59l7.72-7.72 1.47 1.35L5.41 20z\"/>\n",
              "  </svg>\n",
              "      </button>\n",
              "      \n",
              "  <style>\n",
              "    .colab-df-container {\n",
              "      display:flex;\n",
              "      flex-wrap:wrap;\n",
              "      gap: 12px;\n",
              "    }\n",
              "\n",
              "    .colab-df-convert {\n",
              "      background-color: #E8F0FE;\n",
              "      border: none;\n",
              "      border-radius: 50%;\n",
              "      cursor: pointer;\n",
              "      display: none;\n",
              "      fill: #1967D2;\n",
              "      height: 32px;\n",
              "      padding: 0 0 0 0;\n",
              "      width: 32px;\n",
              "    }\n",
              "\n",
              "    .colab-df-convert:hover {\n",
              "      background-color: #E2EBFA;\n",
              "      box-shadow: 0px 1px 2px rgba(60, 64, 67, 0.3), 0px 1px 3px 1px rgba(60, 64, 67, 0.15);\n",
              "      fill: #174EA6;\n",
              "    }\n",
              "\n",
              "    [theme=dark] .colab-df-convert {\n",
              "      background-color: #3B4455;\n",
              "      fill: #D2E3FC;\n",
              "    }\n",
              "\n",
              "    [theme=dark] .colab-df-convert:hover {\n",
              "      background-color: #434B5C;\n",
              "      box-shadow: 0px 1px 3px 1px rgba(0, 0, 0, 0.15);\n",
              "      filter: drop-shadow(0px 1px 2px rgba(0, 0, 0, 0.3));\n",
              "      fill: #FFFFFF;\n",
              "    }\n",
              "  </style>\n",
              "\n",
              "      <script>\n",
              "        const buttonEl =\n",
              "          document.querySelector('#df-963769e2-379b-4dc8-bf32-5452141e462e button.colab-df-convert');\n",
              "        buttonEl.style.display =\n",
              "          google.colab.kernel.accessAllowed ? 'block' : 'none';\n",
              "\n",
              "        async function convertToInteractive(key) {\n",
              "          const element = document.querySelector('#df-963769e2-379b-4dc8-bf32-5452141e462e');\n",
              "          const dataTable =\n",
              "            await google.colab.kernel.invokeFunction('convertToInteractive',\n",
              "                                                     [key], {});\n",
              "          if (!dataTable) return;\n",
              "\n",
              "          const docLinkHtml = 'Like what you see? Visit the ' +\n",
              "            '<a target=\"_blank\" href=https://colab.research.google.com/notebooks/data_table.ipynb>data table notebook</a>'\n",
              "            + ' to learn more about interactive tables.';\n",
              "          element.innerHTML = '';\n",
              "          dataTable['output_type'] = 'display_data';\n",
              "          await google.colab.output.renderOutput(dataTable, element);\n",
              "          const docLink = document.createElement('div');\n",
              "          docLink.innerHTML = docLinkHtml;\n",
              "          element.appendChild(docLink);\n",
              "        }\n",
              "      </script>\n",
              "    </div>\n",
              "  </div>\n",
              "  "
            ]
          },
          "metadata": {},
          "execution_count": 87
        }
      ]
    },
    {
      "cell_type": "markdown",
      "source": [
        "#**3.Exploratory Data Analysis**"
      ],
      "metadata": {
        "id": "ptuPBDFDX0K_"
      }
    },
    {
      "cell_type": "code",
      "source": [
        "print('Dataset shape : ',data.shape)"
      ],
      "metadata": {
        "colab": {
          "base_uri": "https://localhost:8080/"
        },
        "id": "HXbQxfwwAdkx",
        "outputId": "0d2a702c-cba3-41b8-9c61-841d1601a2fe"
      },
      "execution_count": 88,
      "outputs": [
        {
          "output_type": "stream",
          "name": "stdout",
          "text": [
            "Dataset shape :  (50000, 6)\n"
          ]
        }
      ]
    },
    {
      "cell_type": "code",
      "source": [
        "data[\"question_quality\"].value_counts()"
      ],
      "metadata": {
        "colab": {
          "base_uri": "https://localhost:8080/"
        },
        "id": "MwZg6gKnXzTJ",
        "outputId": "d9e42e65-7630-4d15-be83-d9443790aa92"
      },
      "execution_count": 89,
      "outputs": [
        {
          "output_type": "execute_result",
          "data": {
            "text/plain": [
              "low quality         41422\n",
              "good quality         5531\n",
              "very low quality     2893\n",
              "unknown               154\n",
              "Name: question_quality, dtype: int64"
            ]
          },
          "metadata": {},
          "execution_count": 89
        }
      ]
    },
    {
      "cell_type": "code",
      "source": [
        "# percentage of class present in target variable(y) \n",
        "print(\"percentage of low_quality,good_quality and very low quality \\n\",data[\"question_quality\"].value_counts()/len(data)*100)"
      ],
      "metadata": {
        "colab": {
          "base_uri": "https://localhost:8080/"
        },
        "id": "DN-0TT35dR9h",
        "outputId": "81ea47c9-3384-4451-e207-f60f228e485c"
      },
      "execution_count": 90,
      "outputs": [
        {
          "output_type": "stream",
          "name": "stdout",
          "text": [
            "percentage of low_quality,good_quality and very low quality \n",
            " low quality         82.844\n",
            "good quality        11.062\n",
            "very low quality     5.786\n",
            "unknown              0.308\n",
            "Name: question_quality, dtype: float64\n"
          ]
        }
      ]
    },
    {
      "cell_type": "code",
      "source": [
        "plt.style.use(\"ggplot\")\n",
        "\n",
        "plt.figure(figsize=(20,4))\n",
        "ax = plt.subplot(121)\n",
        "data['question_quality'].value_counts(normalize=True).plot(kind=\"bar\")\n",
        "plt.xlabel('question_quality')\n",
        "plt.ylabel(\"percentage of question_quality\")\n",
        "plt.title('question_quality')\n",
        "    \n",
        "    # Add percentage labels to the top of each bar\n",
        "for p in ax.patches:\n",
        "    ax.text(p.get_x()+p.get_width()/2., p.get_height()+0.02, f\"{p.get_height()*100:.1f}%\", ha=\"center\")\n"
      ],
      "metadata": {
        "colab": {
          "base_uri": "https://localhost:8080/",
          "height": 369
        },
        "id": "ZLXCR8zLclzY",
        "outputId": "ee2d4db1-225b-437d-c620-e47e18f2efd7"
      },
      "execution_count": 91,
      "outputs": [
        {
          "output_type": "display_data",
          "data": {
            "text/plain": [
              "<Figure size 1440x288 with 1 Axes>"
            ],
            "image/png": "[encoded data removed]"
          },
          "metadata": {}
        }
      ]
    },
    {
      "cell_type": "markdown",
      "source": [
        "**question_quality data is inbalenced 82.8 : 11 : 5.8 : 0.3**\n",
        "\n",
        "**Unknown data is very less we can remove/replace it**"
      ],
      "metadata": {
        "id": "Pz86CjEtc2TI"
      }
    },
    {
      "cell_type": "code",
      "source": [
        "data = data[data['question_quality'] != 'unknown']"
      ],
      "metadata": {
        "id": "LlUlcdz8jqSc"
      },
      "execution_count": 92,
      "outputs": []
    },
    {
      "cell_type": "code",
      "source": [
        "data.replace({'question_quality' : { 'very low quality' : 0, 'good quality' : 2, 'low quality' : 1 }},inplace=True)"
      ],
      "metadata": {
        "colab": {
          "base_uri": "https://localhost:8080/"
        },
        "id": "6ggth1talW10",
        "outputId": "354ef8aa-ab27-42eb-bb07-cc85faa2a83b"
      },
      "execution_count": 93,
      "outputs": [
        {
          "output_type": "stream",
          "name": "stderr",
          "text": [
            "/usr/local/lib/python3.9/dist-packages/pandas/core/indexing.py:1773: SettingWithCopyWarning: \n",
            "A value is trying to be set on a copy of a slice from a DataFrame.\n",
            "Try using .loc[row_indexer,col_indexer] = value instead\n",
            "\n",
            "See the caveats in the documentation: https://pandas.pydata.org/pandas-docs/stable/user_guide/indexing.html#returning-a-view-versus-a-copy\n",
            "  self._setitem_single_column(ilocs[0], value, pi)\n"
          ]
        }
      ]
    },
    {
      "cell_type": "code",
      "source": [
        "# plotting histogram for each numerical variable\n",
        "column_names = list(data.columns)\n",
        "column_names.remove('question_quality')\n",
        "plt.style.use(\"ggplot\")\n",
        "for column in column_names:\n",
        "    plt.figure(figsize=(20,4))\n",
        "    plt.subplot(121)\n",
        "    sns.distplot(data[column], kde=True, rug=True)\n",
        "    plt.title(column)"
      ],
      "metadata": {
        "colab": {
          "base_uri": "https://localhost:8080/",
          "height": 1000
        },
        "id": "0sNX7xTIf6LH",
        "outputId": "19b1b992-2043-4a9f-af06-3c3b4631310d"
      },
      "execution_count": 94,
      "outputs": [
        {
          "output_type": "stream",
          "name": "stderr",
          "text": [
            "/usr/local/lib/python3.9/dist-packages/seaborn/distributions.py:2619: FutureWarning: `distplot` is a deprecated function and will be removed in a future version. Please adapt your code to use either `displot` (a figure-level function with similar flexibility) or `histplot` (an axes-level function for histograms).\n",
            "  warnings.warn(msg, FutureWarning)\n",
            "/usr/local/lib/python3.9/dist-packages/seaborn/distributions.py:2103: FutureWarning: The `axis` variable is no longer used and will be removed. Instead, assign variables directly to `x` or `y`.\n",
            "  warnings.warn(msg, FutureWarning)\n",
            "/usr/local/lib/python3.9/dist-packages/seaborn/distributions.py:2619: FutureWarning: `distplot` is a deprecated function and will be removed in a future version. Please adapt your code to use either `displot` (a figure-level function with similar flexibility) or `histplot` (an axes-level function for histograms).\n",
            "  warnings.warn(msg, FutureWarning)\n",
            "/usr/local/lib/python3.9/dist-packages/seaborn/distributions.py:2103: FutureWarning: The `axis` variable is no longer used and will be removed. Instead, assign variables directly to `x` or `y`.\n",
            "  warnings.warn(msg, FutureWarning)\n",
            "/usr/local/lib/python3.9/dist-packages/seaborn/distributions.py:2619: FutureWarning: `distplot` is a deprecated function and will be removed in a future version. Please adapt your code to use either `displot` (a figure-level function with similar flexibility) or `histplot` (an axes-level function for histograms).\n",
            "  warnings.warn(msg, FutureWarning)\n",
            "/usr/local/lib/python3.9/dist-packages/seaborn/distributions.py:2103: FutureWarning: The `axis` variable is no longer used and will be removed. Instead, assign variables directly to `x` or `y`.\n",
            "  warnings.warn(msg, FutureWarning)\n",
            "/usr/local/lib/python3.9/dist-packages/seaborn/distributions.py:2619: FutureWarning: `distplot` is a deprecated function and will be removed in a future version. Please adapt your code to use either `displot` (a figure-level function with similar flexibility) or `histplot` (an axes-level function for histograms).\n",
            "  warnings.warn(msg, FutureWarning)\n",
            "/usr/local/lib/python3.9/dist-packages/seaborn/distributions.py:2103: FutureWarning: The `axis` variable is no longer used and will be removed. Instead, assign variables directly to `x` or `y`.\n",
            "  warnings.warn(msg, FutureWarning)\n",
            "/usr/local/lib/python3.9/dist-packages/seaborn/distributions.py:2619: FutureWarning: `distplot` is a deprecated function and will be removed in a future version. Please adapt your code to use either `displot` (a figure-level function with similar flexibility) or `histplot` (an axes-level function for histograms).\n",
            "  warnings.warn(msg, FutureWarning)\n",
            "/usr/local/lib/python3.9/dist-packages/seaborn/distributions.py:2103: FutureWarning: The `axis` variable is no longer used and will be removed. Instead, assign variables directly to `x` or `y`.\n",
            "  warnings.warn(msg, FutureWarning)\n"
          ]
        },
        {
          "output_type": "display_data",
          "data": {
            "text/plain": [
              "<Figure size 1440x288 with 1 Axes>"
            ],
            "image/png": "[encoded data removed]"
          },
          "metadata": {}
        },
        {
          "output_type": "display_data",
          "data": {
            "text/plain": [
              "<Figure size 1440x288 with 1 Axes>"
            ],
            "image/png": "[encoded data removed]"
          },
          "metadata": {}
        },
        {
          "output_type": "display_data",
          "data": {
            "text/plain": [
              "<Figure size 1440x288 with 1 Axes>"
            ],
            "image/png": "[encoded data removed]"
          },
          "metadata": {}
        },
        {
          "output_type": "display_data",
          "data": {
            "text/plain": [
              "<Figure size 1440x288 with 1 Axes>"
            ],
            "image/png": "[encoded data removed]"
          },
          "metadata": {}
        },
        {
          "output_type": "display_data",
          "data": {
            "text/plain": [
              "<Figure size 1440x288 with 1 Axes>"
            ],
            "image/png": "[encoded data removed]"
          },
          "metadata": {}
        }
      ]
    },
    {
      "cell_type": "markdown",
      "source": [
        "**Most of columns data is skewed except Title_char_count and Title_word_count**\n",
        "\n",
        "**Skewness we can not do anything about it because we cannot remove outlires which are very usefull in this case**"
      ],
      "metadata": {
        "id": "xwff66J1igF6"
      }
    },
    {
      "cell_type": "code",
      "source": [
        "plt.figure(figsize=(25,15))\n",
        "sns.heatmap(data.corr(), annot=True)"
      ],
      "metadata": {
        "colab": {
          "base_uri": "https://localhost:8080/",
          "height": 886
        },
        "id": "nKxQ960PsXhs",
        "outputId": "3374b41f-15e0-4c19-985f-d63cfdca50ab"
      },
      "execution_count": 96,
      "outputs": [
        {
          "output_type": "execute_result",
          "data": {
            "text/plain": [
              "<AxesSubplot:>"
            ]
          },
          "metadata": {},
          "execution_count": 96
        },
        {
          "output_type": "display_data",
          "data": {
            "text/plain": [
              "<Figure size 1800x1080 with 2 Axes>"
            ],
            "image/png": "[encoded data removed]"
          },
          "metadata": {}
        }
      ]
    },
    {
      "cell_type": "code",
      "source": [
        "data"
      ],
      "metadata": {
        "colab": {
          "base_uri": "https://localhost:8080/",
          "height": 423
        },
        "id": "TZzM2mtrDDQG",
        "outputId": "96196cc2-ac3b-4661-fc35-5a50508df654"
      },
      "execution_count": 97,
      "outputs": [
        {
          "output_type": "execute_result",
          "data": {
            "text/plain": [
              "       ViewCount  CommentCount  question_quality  Title_Text_Length  \\\n",
              "0            165             0                 1                 43   \n",
              "1          15804             4                 2                 66   \n",
              "2            965             1                 1                 63   \n",
              "3            110             1                 1                 82   \n",
              "4             59             2                 1                 95   \n",
              "...          ...           ...               ...                ...   \n",
              "49995        421             4                 2                100   \n",
              "49996        392             0                 1                121   \n",
              "49997        279             5                 1                 81   \n",
              "49998       3091             1                 2                 41   \n",
              "49999         62             0                 1                 90   \n",
              "\n",
              "       Body_Text_Length  Body_Sentences_Count  \n",
              "0                   840                     9  \n",
              "1                  2139                    12  \n",
              "2                   445                     4  \n",
              "3                  1477                    11  \n",
              "4                   628                     8  \n",
              "...                 ...                   ...  \n",
              "49995               653                     7  \n",
              "49996              1991                    17  \n",
              "49997               717                     1  \n",
              "49998               504                     3  \n",
              "49999               619                     1  \n",
              "\n",
              "[49846 rows x 6 columns]"
            ],
            "text/html": [
              "\n",
              "  <div id=\"df-2b6640e4-5649-4485-8492-f7e90c2bdcd8\">\n",
              "    <div class=\"colab-df-container\">\n",
              "      <div>\n",
              "<style scoped>\n",
              "    .dataframe tbody tr th:only-of-type {\n",
              "        vertical-align: middle;\n",
              "    }\n",
              "\n",
              "    .dataframe tbody tr th {\n",
              "        vertical-align: top;\n",
              "    }\n",
              "\n",
              "    .dataframe thead th {\n",
              "        text-align: right;\n",
              "    }\n",
              "</style>\n",
              "<table border=\"1\" class=\"dataframe\">\n",
              "  <thead>\n",
              "    <tr style=\"text-align: right;\">\n",
              "      <th></th>\n",
              "      <th>ViewCount</th>\n",
              "      <th>CommentCount</th>\n",
              "      <th>question_quality</th>\n",
              "      <th>Title_Text_Length</th>\n",
              "      <th>Body_Text_Length</th>\n",
              "      <th>Body_Sentences_Count</th>\n",
              "    </tr>\n",
              "  </thead>\n",
              "  <tbody>\n",
              "    <tr>\n",
              "      <th>0</th>\n",
              "      <td>165</td>\n",
              "      <td>0</td>\n",
              "      <td>1</td>\n",
              "      <td>43</td>\n",
              "      <td>840</td>\n",
              "      <td>9</td>\n",
              "    </tr>\n",
              "    <tr>\n",
              "      <th>1</th>\n",
              "      <td>15804</td>\n",
              "      <td>4</td>\n",
              "      <td>2</td>\n",
              "      <td>66</td>\n",
              "      <td>2139</td>\n",
              "      <td>12</td>\n",
              "    </tr>\n",
              "    <tr>\n",
              "      <th>2</th>\n",
              "      <td>965</td>\n",
              "      <td>1</td>\n",
              "      <td>1</td>\n",
              "      <td>63</td>\n",
              "      <td>445</td>\n",
              "      <td>4</td>\n",
              "    </tr>\n",
              "    <tr>\n",
              "      <th>3</th>\n",
              "      <td>110</td>\n",
              "      <td>1</td>\n",
              "      <td>1</td>\n",
              "      <td>82</td>\n",
              "      <td>1477</td>\n",
              "      <td>11</td>\n",
              "    </tr>\n",
              "    <tr>\n",
              "      <th>4</th>\n",
              "      <td>59</td>\n",
              "      <td>2</td>\n",
              "      <td>1</td>\n",
              "      <td>95</td>\n",
              "      <td>628</td>\n",
              "      <td>8</td>\n",
              "    </tr>\n",
              "    <tr>\n",
              "      <th>...</th>\n",
              "      <td>...</td>\n",
              "      <td>...</td>\n",
              "      <td>...</td>\n",
              "      <td>...</td>\n",
              "      <td>...</td>\n",
              "      <td>...</td>\n",
              "    </tr>\n",
              "    <tr>\n",
              "      <th>49995</th>\n",
              "      <td>421</td>\n",
              "      <td>4</td>\n",
              "      <td>2</td>\n",
              "      <td>100</td>\n",
              "      <td>653</td>\n",
              "      <td>7</td>\n",
              "    </tr>\n",
              "    <tr>\n",
              "      <th>49996</th>\n",
              "      <td>392</td>\n",
              "      <td>0</td>\n",
              "      <td>1</td>\n",
              "      <td>121</td>\n",
              "      <td>1991</td>\n",
              "      <td>17</td>\n",
              "    </tr>\n",
              "    <tr>\n",
              "      <th>49997</th>\n",
              "      <td>279</td>\n",
              "      <td>5</td>\n",
              "      <td>1</td>\n",
              "      <td>81</td>\n",
              "      <td>717</td>\n",
              "      <td>1</td>\n",
              "    </tr>\n",
              "    <tr>\n",
              "      <th>49998</th>\n",
              "      <td>3091</td>\n",
              "      <td>1</td>\n",
              "      <td>2</td>\n",
              "      <td>41</td>\n",
              "      <td>504</td>\n",
              "      <td>3</td>\n",
              "    </tr>\n",
              "    <tr>\n",
              "      <th>49999</th>\n",
              "      <td>62</td>\n",
              "      <td>0</td>\n",
              "      <td>1</td>\n",
              "      <td>90</td>\n",
              "      <td>619</td>\n",
              "      <td>1</td>\n",
              "    </tr>\n",
              "  </tbody>\n",
              "</table>\n",
              "<p>49846 rows × 6 columns</p>\n",
              "</div>\n",
              "      <button class=\"colab-df-convert\" onclick=\"convertToInteractive('df-2b6640e4-5649-4485-8492-f7e90c2bdcd8')\"\n",
              "              title=\"Convert this dataframe to an interactive table.\"\n",
              "              style=\"display:none;\">\n",
              "        \n",
              "  <svg xmlns=\"http://www.w3.org/2000/svg\" height=\"24px\"viewBox=\"0 0 24 24\"\n",
              "       width=\"24px\">\n",
              "    <path d=\"M0 0h24v24H0V0z\" fill=\"none\"/>\n",
              "    <path d=\"M18.56 5.44l.94 2.06.94-2.06 2.06-.94-2.06-.94-.94-2.06-.94 2.06-2.06.94zm-11 1L8.5 8.5l.94-2.06 2.06-.94-2.06-.94L8.5 2.5l-.94 2.06-2.06.94zm10 10l.94 2.06.94-2.06 2.06-.94-2.06-.94-.94-2.06-.94 2.06-2.06.94z\"/><path d=\"M17.41 7.96l-1.37-1.37c-.4-.4-.92-.59-1.43-.59-.52 0-1.04.2-1.43.59L10.3 9.45l-7.72 7.72c-.78.78-.78 2.05 0 2.83L4 21.41c.39.39.9.59 1.41.59.51 0 1.02-.2 1.41-.59l7.78-7.78 2.81-2.81c.8-.78.8-2.07 0-2.86zM5.41 20L4 18.59l7.72-7.72 1.47 1.35L5.41 20z\"/>\n",
              "  </svg>\n",
              "      </button>\n",
              "      \n",
              "  <style>\n",
              "    .colab-df-container {\n",
              "      display:flex;\n",
              "      flex-wrap:wrap;\n",
              "      gap: 12px;\n",
              "    }\n",
              "\n",
              "    .colab-df-convert {\n",
              "      background-color: #E8F0FE;\n",
              "      border: none;\n",
              "      border-radius: 50%;\n",
              "      cursor: pointer;\n",
              "      display: none;\n",
              "      fill: #1967D2;\n",
              "      height: 32px;\n",
              "      padding: 0 0 0 0;\n",
              "      width: 32px;\n",
              "    }\n",
              "\n",
              "    .colab-df-convert:hover {\n",
              "      background-color: #E2EBFA;\n",
              "      box-shadow: 0px 1px 2px rgba(60, 64, 67, 0.3), 0px 1px 3px 1px rgba(60, 64, 67, 0.15);\n",
              "      fill: #174EA6;\n",
              "    }\n",
              "\n",
              "    [theme=dark] .colab-df-convert {\n",
              "      background-color: #3B4455;\n",
              "      fill: #D2E3FC;\n",
              "    }\n",
              "\n",
              "    [theme=dark] .colab-df-convert:hover {\n",
              "      background-color: #434B5C;\n",
              "      box-shadow: 0px 1px 3px 1px rgba(0, 0, 0, 0.15);\n",
              "      filter: drop-shadow(0px 1px 2px rgba(0, 0, 0, 0.3));\n",
              "      fill: #FFFFFF;\n",
              "    }\n",
              "  </style>\n",
              "\n",
              "      <script>\n",
              "        const buttonEl =\n",
              "          document.querySelector('#df-2b6640e4-5649-4485-8492-f7e90c2bdcd8 button.colab-df-convert');\n",
              "        buttonEl.style.display =\n",
              "          google.colab.kernel.accessAllowed ? 'block' : 'none';\n",
              "\n",
              "        async function convertToInteractive(key) {\n",
              "          const element = document.querySelector('#df-2b6640e4-5649-4485-8492-f7e90c2bdcd8');\n",
              "          const dataTable =\n",
              "            await google.colab.kernel.invokeFunction('convertToInteractive',\n",
              "                                                     [key], {});\n",
              "          if (!dataTable) return;\n",
              "\n",
              "          const docLinkHtml = 'Like what you see? Visit the ' +\n",
              "            '<a target=\"_blank\" href=https://colab.research.google.com/notebooks/data_table.ipynb>data table notebook</a>'\n",
              "            + ' to learn more about interactive tables.';\n",
              "          element.innerHTML = '';\n",
              "          dataTable['output_type'] = 'display_data';\n",
              "          await google.colab.output.renderOutput(dataTable, element);\n",
              "          const docLink = document.createElement('div');\n",
              "          docLink.innerHTML = docLinkHtml;\n",
              "          element.appendChild(docLink);\n",
              "        }\n",
              "      </script>\n",
              "    </div>\n",
              "  </div>\n",
              "  "
            ]
          },
          "metadata": {},
          "execution_count": 97
        }
      ]
    },
    {
      "cell_type": "markdown",
      "source": [],
      "metadata": {
        "id": "9oNNhrTDFC2B"
      }
    },
    {
      "cell_type": "markdown",
      "source": [
        "#**4.Split Dataset into Train and Test**"
      ],
      "metadata": {
        "id": "gYGMvMPyFF0a"
      }
    },
    {
      "cell_type": "code",
      "source": [
        "X= data.drop(['question_quality'],axis=1)\n",
        "y= data['question_quality']\n",
        "\n",
        "\"\"\"from imblearn.over_sampling import SMOTENC\n",
        "\n",
        "cat_features = np.array([0, 1, 2])\n",
        "# Define the SMOTENC object with a sampling strategy for each class\n",
        "sampling_strategy = {0: 10000, 1: 35000, 2: 10000}\n",
        "smote_nc = SMOTENC(sampling_strategy=sampling_strategy, categorical_features=cat_features, random_state=42)\n",
        "\n",
        "# Apply SMOTE-NC oversampling to the training data\n",
        "X_resampled, y_resampled = smote_nc.fit_resample(p, q)\n",
        "\n",
        "# Check the class distribution of the resampled data\n",
        "print(y_resampled.value_counts())\n",
        "\"\"\"\n",
        "\n",
        "X_train, X_test, y_train, y_test = train_test_split(X, y, test_size=0.33, random_state=42)\n"
      ],
      "metadata": {
        "id": "6-r7a4wJFX1T"
      },
      "execution_count": 100,
      "outputs": []
    },
    {
      "cell_type": "markdown",
      "source": [
        "#**5.Scalling**"
      ],
      "metadata": {
        "id": "tLXR79hzFw6N"
      }
    },
    {
      "cell_type": "code",
      "source": [
        "scaler = StandardScaler()\n",
        "X_train = scaler.fit_transform(X_train)\n",
        "X_test = scaler.transform(X_test)"
      ],
      "metadata": {
        "id": "7vQOqUFaFg8Z"
      },
      "execution_count": 101,
      "outputs": []
    },
    {
      "cell_type": "code",
      "source": [],
      "metadata": {
        "id": "NnO9LDiZF6Oy"
      },
      "execution_count": null,
      "outputs": []
    },
    {
      "cell_type": "markdown",
      "source": [
        "#**6.Model**"
      ],
      "metadata": {
        "id": "xNOxjl9jt_Cc"
      }
    },
    {
      "cell_type": "markdown",
      "source": [
        "**1.Logistic Regression**"
      ],
      "metadata": {
        "id": "lMmEJHavHoY0"
      }
    },
    {
      "cell_type": "code",
      "source": [
        "lr_model = LogisticRegression(max_iter=100)\n",
        "lr_model.fit(X_train, y_train)\n",
        "\n",
        "train_predicted = lr_model.predict(X_train)\n",
        "test_predicted = lr_model.predict(X_test)\n",
        "\n",
        "print(\"The accuracy of Logistic Regression on train data is: \", accuracy_score(y_train, train_predicted)*100, \"%\")\n",
        "print(\"The accuracy of Logistic Regression on test data is: \", accuracy_score(y_test, test_predicted)*100, \"%\")\n",
        "\n",
        "print(\"\\nPrecision (train): \", precision_score(y_train, train_predicted, average='weighted'))\n",
        "print(\"Recall (train): \", recall_score(y_train, train_predicted, average='weighted'))\n",
        "print(\"F1-score (train): \", f1_score(y_train, train_predicted, average='weighted'))\n",
        "\n",
        "print(\"\\nPrecision (test): \", precision_score(y_test, test_predicted, average='weighted'))\n",
        "print(\"Recall (test): \", recall_score(y_test, test_predicted, average='weighted'))\n",
        "print(\"F1-score (test): \", f1_score(y_test, test_predicted, average='weighted'))"
      ],
      "metadata": {
        "colab": {
          "base_uri": "https://localhost:8080/"
        },
        "id": "Nx07Ibfn3uHn",
        "outputId": "02faa2d2-2c79-41f2-cdc0-1626fa9f1eb8"
      },
      "execution_count": 110,
      "outputs": [
        {
          "output_type": "stream",
          "name": "stdout",
          "text": [
            "The accuracy of Logistic Regression on train data is:  83.45310815666546 %\n",
            "The accuracy of Logistic Regression on test data is:  83.5258358662614 %\n",
            "\n",
            "Precision (train):  0.7632584078557809\n",
            "Recall (train):  0.8345310815666547\n",
            "F1-score (train):  0.7726141243776821\n",
            "\n",
            "Precision (test):  0.7661469260256334\n",
            "Recall (test):  0.835258358662614\n",
            "F1-score (test):  0.7729107354191166\n"
          ]
        }
      ]
    },
    {
      "cell_type": "markdown",
      "source": [
        "**These results indicate that the Logistic Regression model is performing similarly on both the training and test sets, with accuracies of approximately 83.5%. This suggests that the model is not overfitting to the training data and is generalizing reasonably well to new, unseen data.**"
      ],
      "metadata": {
        "id": "SdkakYpVKPxH"
      }
    },
    {
      "cell_type": "code",
      "source": [
        "from sklearn.ensemble import RandomForestClassifier\n",
        "rf_model = RandomForestClassifier(n_estimators = 100, random_state = 0)  \n",
        "rf_model.fit(X_train, y_train)  \n",
        "train_predicted=rf_model.predict(X_train)\n",
        "test_predicted = rf_model.predict(X_test)\n",
        "print(\"The accuracy of Random Forest on train data is : \", accuracy_score(y_train, train_predicted)*100, \"%\")\n",
        "print(\"The accuracy of Random Forest on test data is : \", accuracy_score(y_test, test_predicted)*100, \"%\")\n",
        "print()\n",
        "print()\n",
        "# Calculate precision, recall, and F1-score on the training set\n",
        "train_precision = precision_score(y_train, train_predicted, average='weighted')\n",
        "train_recall = recall_score(y_train, train_predicted, average='weighted')\n",
        "train_f1 = f1_score(y_train, train_predicted, average='weighted')\n",
        "\n",
        "# Calculate precision, recall, and F1-score on the test set\n",
        "test_precision = precision_score(y_test, test_predicted, average='weighted')\n",
        "test_recall = recall_score(y_test, test_predicted, average='weighted')\n",
        "test_f1 = f1_score(y_test, test_predicted, average='weighted')\n",
        "\n",
        "# Print the results\n",
        "print(\"Precision (train): \", train_precision)\n",
        "print(\"Recall (train): \", train_recall)\n",
        "print(\"F1-score (train): \", train_f1)\n",
        "print()\n",
        "print(\"Precision (test): \", test_precision)\n",
        "print(\"Recall (test): \", test_recall)\n",
        "print(\"F1-score (test): \", test_f1)"
      ],
      "metadata": {
        "colab": {
          "base_uri": "https://localhost:8080/"
        },
        "id": "aSxq7nww4gDm",
        "outputId": "2aef2879-8afc-4c15-b95e-76b2b9477604"
      },
      "execution_count": 108,
      "outputs": [
        {
          "output_type": "stream",
          "name": "stdout",
          "text": [
            "The accuracy of Random Forest on train data is :  100.0 %\n",
            "The accuracy of Random Forest on test data is :  83.12462006079028 %\n",
            "\n",
            "\n",
            "Precision (train):  1.0\n",
            "Recall (train):  1.0\n",
            "F1-score (train):  1.0\n",
            "\n",
            "Precision (test):  0.764288684177136\n",
            "Recall (test):  0.8312462006079028\n",
            "F1-score (test):  0.7838667416268802\n"
          ]
        }
      ]
    },
    {
      "cell_type": "markdown",
      "source": [
        "**The results show that the Random Forest Classifier model has perfect precision, recall, and F1-score on the training set, but slightly lower performance on the test set. This suggests that the model may be overfitting to the training data.**\n",
        "\n",
        "**The precision, recall, and F1-score values on the test set are also helpful for evaluating the performance of the model on new, unseen data. The F1-score of 0.78 on the test set indicates that the model's overall performance is reasonable, but there may be some room for improvement.**"
      ],
      "metadata": {
        "id": "dsRJ3_oUJPDW"
      }
    },
    {
      "cell_type": "code",
      "source": [
        "from sklearn.model_selection import StratifiedKFold\n",
        "from sklearn.model_selection import cross_val_score\n",
        "from sklearn.ensemble import RandomForestClassifier\n",
        "import numpy as np\n",
        "\n",
        "# Define the number of folds\n",
        "n_folds = 3\n",
        "\n",
        "# Define the multi-class classification model\n",
        "model = RandomForestClassifier()\n",
        "\n",
        "# Define the cross-validation method\n",
        "skf = StratifiedKFold(n_splits=n_folds, shuffle=True, random_state=42)\n",
        "\n",
        "# Perform cross-validation\n",
        "scores = cross_val_score(model, X, y, cv=skf, scoring='accuracy')\n",
        "\n",
        "# Print the scores for each fold\n",
        "print(\"Cross-validation scores:\", scores)\n",
        "\n",
        "# Calculate and print the mean and standard deviation of the scores\n",
        "print(\"Mean accuracy:\", np.mean(scores))\n",
        "print(\"Standard deviation:\", np.std(scores))\n"
      ],
      "metadata": {
        "colab": {
          "base_uri": "https://localhost:8080/"
        },
        "id": "j9Db5nBq67L4",
        "outputId": "349aae32-fae1-4da4-ab4b-f45cec712341"
      },
      "execution_count": 111,
      "outputs": [
        {
          "output_type": "stream",
          "name": "stdout",
          "text": [
            "Cross-validation scores: [0.83142754 0.8331628  0.83213963]\n",
            "Mean accuracy: 0.8322433257590586\n",
            "Standard deviation: 0.0007122032926167554\n"
          ]
        }
      ]
    },
    {
      "cell_type": "code",
      "source": [
        "from imblearn.over_sampling import SMOTE\n",
        "from sklearn.feature_extraction.text import CountVectorizer\n",
        "\n",
        "count_vec = CountVectorizer(max_features=10000)\n",
        "bow = count_vec.fit_transform(df['Body'])\n",
        "X = bow\n",
        "y = df['question_quality']\n",
        "\n",
        "# split data into train and test sets\n",
        "X_train, X_test, y_train, y_test = train_test_split(X, y, test_size=0.3, stratify=y)\n",
        "\n",
        "# create an instance of the SMOTE class\n",
        "smote = SMOTE()\n",
        "\n",
        "# fit and apply SMOTE to the training data only\n",
        "X_train_resampled, y_train_resampled = smote.fit_resample(X_train, y_train)\n",
        "\n",
        "# convert the resampled X_train to a dense numpy array\n",
        "X_train_resampled = X_train_resampled.toarray()\n",
        "\n",
        "# train your model on the resampled training data\n",
        "model = MultinomialNB().fit(X_train_resampled, y_train_resampled)\n",
        "\n",
        "# evaluate the model on the test set\n",
        "y_pred = model.predict(X_test)\n",
        "print('Accuracy:', accuracy_score(y_test, y_pred))\n",
        "print('F1 score:', f1_score(y_test, y_pred, average=\"macro\"))\n"
      ],
      "metadata": {
        "colab": {
          "base_uri": "https://localhost:8080/"
        },
        "id": "5ZKOFMr4pQkK",
        "outputId": "699010b6-a57a-4e98-95d3-3f6a7acba6ca"
      },
      "execution_count": 114,
      "outputs": [
        {
          "output_type": "stream",
          "name": "stdout",
          "text": [
            "Accuracy: 0.7087333333333333\n",
            "F1 score: 0.31208166992321584\n"
          ]
        }
      ]
    },
    {
      "cell_type": "markdown",
      "source": [
        "**The accuracy of the model on the test set is 70.87%, and the F1-score is 0.312. It seems that the model is not performing very well, especially in terms of F1-score. This may indicate a class imbalance issue, where the minority class (e.g., low-quality questions) is not well represented in the training data.**\n",
        "\n",
        "**To address this issue, you can try using different resampling techniques, such as oversampling or undersampling, or using a different algorithm that can handle class imbalance more effectively, such as the BalancedRandomForestClassifier or the XGBoost classifier with the scale_pos_weight parameter.**"
      ],
      "metadata": {
        "id": "UJopqbSzNyLc"
      }
    },
    {
      "cell_type": "markdown",
      "source": [
        "**The three models we have evaluated are Random Forest, Logistic Regression, and Multinomial Naive Bayes.**\n",
        "\n",
        "**Random Forest:**\n",
        "\n",
        "Train accuracy: 100%\n",
        "\n",
        "Test accuracy: 83.12%\n",
        "\n",
        "Train Precision, Recall, and F1-score: 1.0, 1.0, 1.0\n",
        "\n",
        "Test Precision, Recall, and F1-score: 0.76, 0.83, 0.78\n",
        "\n",
        "**Logistic Regression:**\n",
        "\n",
        "Train accuracy: 83.45%\n",
        "\n",
        "Test accuracy: 83.53%\n",
        "\n",
        "Train Precision, Recall, and F1-score: 0.76, 0.83, 0.77\n",
        "\n",
        "Test Precision, Recall, and F1-score: 0.77, 0.84, 0.77\n",
        "\n",
        "**Multinomial Naive Bayes with SMOTE:**\n",
        "\n",
        "Test accuracy: 70.87%\n",
        "\n",
        "Test F1-score: 0.31\n",
        "\n",
        "**Based on the accuracy and F1-score, Random Forest and Logistic Regression perform better than Multinomial Naive Bayes. Random Forest has the highest train accuracy and precision, recall, and F1-score for both train and test datasets. Logistic Regression also has high accuracy and F1-score, and its precision and recall are higher than those of Random Forest on the test dataset.**"
      ],
      "metadata": {
        "id": "O3FfSnVlOLcE"
      }
    },
    {
      "cell_type": "markdown",
      "source": [],
      "metadata": {
        "id": "VtkUdLHmPkk3"
      }
    },
    {
      "cell_type": "markdown",
      "source": [
        "**Logistic regression is a popular and widely used classification algorithm. It is a linear model that works well when there is a linear relationship between the input variables and the output. In the above case, logistic regression was able to achieve a good accuracy score on both the train and test datasets, and also achieved good scores for precision, recall, and F1-score.**\n",
        "\n",
        "**Additionally, logistic regression is a simple and interpretable model, which can be an advantage in situations where understanding the relationship between the input variables and the output is important. It is also computationally efficient and can handle large datasets.**\n",
        "\n",
        "**Overall, logistic regression was a good choice for the given problem because it was able to perform well on the data, while also being simple and interpretable.**"
      ],
      "metadata": {
        "id": "-qzzlKRgPcr0"
      }
    }
  ]
}