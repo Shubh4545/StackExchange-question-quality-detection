{
  "nbformat": 4,
  "nbformat_minor": 0,
  "metadata": {
    "colab": {
      "provenance": [],
      "mount_file_id": "1IdSg_9DEniHrczCWJ4JqZVmJrJzIo8S9",
      "authorship_tag": "ABX9TyNv/4B2DEaXiMMDb8lrSIyB",
      "include_colab_link": true
    },
    "kernelspec": {
      "name": "python3",
      "display_name": "Python 3"
    },
    "language_info": {
      "name": "python"
    }
  },
  "cells": [
    {
      "cell_type": "markdown",
      "metadata": {
        "id": "view-in-github",
        "colab_type": "text"
      },
      "source": [
        "<a href=\"https://colab.research.google.com/github/Shubh4545/StackExchange-question-quality-detection/blob/main/dataset_extraction_code.ipynb\" target=\"_parent\"><img src=\"https://colab.research.google.com/assets/colab-badge.svg\" alt=\"Open In Colab\"/></a>"
      ]
    },
    {
      "cell_type": "code",
      "source": [
        "import xml.etree.ElementTree as ET\n",
        "import pandas as pd\n",
        "\n",
        "# Parse the XML file\n",
        "tree = ET.parse('Posts.xml')\n",
        "root = tree.getroot()\n",
        "\n",
        "# Define the columns of the dataset\n",
        "columns = ['Id', 'PostTypeId', 'AcceptedAnswerId','Score', 'ViewCount', 'Title','Body', 'AnswerCount', 'CommentCount', 'FavoriteCount']\n",
        "\n",
        "# Create an empty list to store the data\n",
        "data = []\n",
        "\n",
        "# Iterate through each row in the XML file\n",
        "for row in root.findall('.//row'):\n",
        "\n",
        "    # Extract the values of the attributes\n",
        "    id_val = row.get('Id')\n",
        "    post_type_id = row.get('PostTypeId')\n",
        "    accepted_answer_id = row.get('AcceptedAnswerId')\n",
        "    score = row.get('Score')\n",
        "    Title = row.get('Title')\n",
        "    view_count = row.get('ViewCount')\n",
        "    body = row.get('Body')\n",
        "    answer_count = row.get('AnswerCount')\n",
        "    comment_count = row.get('CommentCount')\n",
        "    favorite_count = row.get('FavoriteCount')\n",
        "    \n",
        "    # Append the attribute values as a list to the data list\n",
        "    if int(post_type_id) == 1:\n",
        "             data.append([id_val, post_type_id, accepted_answer_id,score, view_count,Title, body,answer_count, comment_count, favorite_count])\n",
        "\n",
        "# Create a Pandas DataFrame from the data list and the columns list\n",
        "df = pd.DataFrame(data, columns=columns)\n",
        "\n",
        "df.to_csv('dataset.csv', index=False)"
      ],
      "metadata": {
        "id": "VAcXHWo5d7Bv"
      },
      "execution_count": null,
      "outputs": []
    }
  ]
}