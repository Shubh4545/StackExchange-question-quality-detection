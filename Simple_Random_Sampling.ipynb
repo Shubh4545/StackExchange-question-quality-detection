{
  "nbformat": 4,
  "nbformat_minor": 0,
  "metadata": {
    "colab": {
      "provenance": [],
      "authorship_tag": "ABX9TyPM8iLVq0HqgGJNtZlYSoVE",
      "include_colab_link": true
    },
    "kernelspec": {
      "name": "python3",
      "display_name": "Python 3"
    },
    "language_info": {
      "name": "python"
    }
  },
  "cells": [
    {
      "cell_type": "markdown",
      "metadata": {
        "id": "view-in-github",
        "colab_type": "text"
      },
      "source": [
        "<a href=\"https://colab.research.google.com/github/Shubh4545/StackExchange-question-quality-detection/blob/main/Simple_Random_Sampling.ipynb\" target=\"_parent\"><img src=\"https://colab.research.google.com/assets/colab-badge.svg\" alt=\"Open In Colab\"/></a>"
      ]
    },
    {
      "cell_type": "code",
      "execution_count": null,
      "metadata": {
        "id": "5ix5Xl5tfISO"
      },
      "outputs": [],
      "source": [
        "import pandas as pd\n",
        "\n",
        "# load your data into a DataFrame (replace 'data.csv' with your data file name)\n",
        "df = pd.read_csv('dataset.csv')\n",
        "\n",
        "# randomly sample 10000 rows from the DataFrame\n",
        "sample = df.sample(n=20000, replace=False, random_state=42)\n",
        "print(sample.shape)\n",
        "# print the sample\n",
        "sample.to_csv('sampled_data.csv')\n"
      ]
    }
  ]
}
