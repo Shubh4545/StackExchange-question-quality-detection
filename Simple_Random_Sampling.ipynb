{
  "nbformat": 4,
  "nbformat_minor": 0,
  "metadata": {
    "colab": {
      "provenance": [],
      "authorship_tag": "ABX9TyPgAeo5YgnZmstza67RCBSo",
      "include_colab_link": true
    },
    "kernelspec": {
      "name": "python3",
      "display_name": "Python 3"
    },
    "language_info": {
      "name": "python"
    }
  },
  "cells": [
    {
      "cell_type": "markdown",
      "metadata": {
        "id": "view-in-github",
        "colab_type": "text"
      },
      "source": [
        "<a href=\"https://colab.research.google.com/github/Shubh4545/StackExchange-question-quality-detection/blob/main/Simple_Random_Sampling.ipynb\" target=\"_parent\"><img src=\"https://colab.research.google.com/assets/colab-badge.svg\" alt=\"Open In Colab\"/></a>"
      ]
    },
    {
      "cell_type": "code",
      "execution_count": null,
      "metadata": {
        "id": "5ix5Xl5tfISO"
      },
      "outputs": [],
      "source": [
        "import random\n",
        "import pandas as pd\n",
        "# create a list of data\n",
        "data = pd.read_csv(\"/large_datset.csv\")\n",
        "# set the number of samples you want\n",
        "num_samples = 10000\n",
        "\n",
        "# perform random sampling\n",
        "dataset = random.sample(data, num_samples)\n",
        "\n",
        "# print the samples\n",
        "print(dataset)\n"
      ]
    }
  ]
}