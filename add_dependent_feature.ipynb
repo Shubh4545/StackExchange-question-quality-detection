{
  "nbformat": 4,
  "nbformat_minor": 0,
  "metadata": {
    "colab": {
      "provenance": [],
      "authorship_tag": "ABX9TyPnMiuKUPsMLB0J/3H8tAJQ",
      "include_colab_link": true
    },
    "kernelspec": {
      "name": "python3",
      "display_name": "Python 3"
    },
    "language_info": {
      "name": "python"
    }
  },
  "cells": [
    {
      "cell_type": "markdown",
      "metadata": {
        "id": "view-in-github",
        "colab_type": "text"
      },
      "source": [
        "<a href=\"https://colab.research.google.com/github/Shubh4545/StackExchange-question-quality-detection/blob/main/add_dependent_feature.ipynb\" target=\"_parent\"><img src=\"https://colab.research.google.com/assets/colab-badge.svg\" alt=\"Open In Colab\"/></a>"
      ]
    },
    {
      "cell_type": "code",
      "execution_count": null,
      "metadata": {
        "id": "z2jez55-tB2G"
      },
      "outputs": [],
      "source": [
        "import pandas as pd\n",
        "\n",
        "# load your data into a DataFrame (replace 'data.csv' with your data file name)\n",
        "df = pd.read_csv('sampled_data.csv')\n",
        "\n",
        "# create a new column that labels each question as \"good quality\", \"low quality\", or \"very-low quality\"\n",
        "def label_question(row):\n",
        "    if row['Score'] > 5 and row['AnswerCount'] > 0:\n",
        "        return 'good quality'\n",
        "    elif row['Score'] >= 0 and row['Score'] <=5 and row['AnswerCount'] >= 0:\n",
        "        return 'low quality'\n",
        "    elif row['Score'] < 0:\n",
        "        return 'very low quality'\n",
        "    else:\n",
        "        return 'unknown'\n",
        "\n",
        "df['question_quality'] = df.apply(label_question, axis=1)\n",
        "\n",
        "# print the updated DataFrame\n",
        "print(df)\n",
        "df.to_csv(\"complete_dataset.csv\")\n"
      ]
    }
  ]
}